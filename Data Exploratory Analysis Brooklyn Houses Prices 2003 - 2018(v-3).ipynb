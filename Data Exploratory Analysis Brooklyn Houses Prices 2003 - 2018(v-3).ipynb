{
 "cells": [
  {
   "cell_type": "code",
   "execution_count": 2,
   "metadata": {
    "collapsed": true
   },
   "outputs": [],
   "source": [
    "#!pip freeze"
   ]
  },
  {
   "cell_type": "code",
   "execution_count": 2,
   "metadata": {
    "collapsed": true
   },
   "outputs": [],
   "source": [
    "import matplotlib.pyplot as plt\n",
    "import seaborn as sns\n",
    "import pandas as pd\n",
    "import numpy as np"
   ]
  },
  {
   "cell_type": "code",
   "execution_count": 4,
   "metadata": {
    "collapsed": true
   },
   "outputs": [],
   "source": [
    "#!pip install google-cloud"
   ]
  },
  {
   "cell_type": "code",
   "execution_count": 5,
   "metadata": {
    "collapsed": true
   },
   "outputs": [],
   "source": [
    "# %bash\n",
    "# apt-get update\n",
    "# apt-get -y install python-mpltoolkits.basemap"
   ]
  },
  {
   "cell_type": "code",
   "execution_count": 6,
   "metadata": {
    "hiddenCell": true
   },
   "outputs": [
    {
     "data": {
      "text/html": [
       "\n",
       "    <div class=\"bqsv\" id=\"1_155598882805\"></div>\n",
       "\n",
       "    <script src=\"/static/components/requirejs/require.js\"></script>\n",
       "    <script>\n",
       "      require.config({\n",
       "        paths: {\n",
       "          base: '/static/base',\n",
       "        },\n",
       "        map: {\n",
       "          '*': {\n",
       "            datalab: 'nbextensions/gcpdatalab'\n",
       "          }\n",
       "        },\n",
       "      });\n",
       "\n",
       "      require(['datalab/bigquery', 'datalab/element!1_155598882805',\n",
       "          'datalab/style!/nbextensions/gcpdatalab/bigquery.css'],\n",
       "        function(bq, dom) {\n",
       "          bq.renderSchema(dom, [{\"type\": \"INTEGER\", \"name\": \"BOROUGH_\", \"mode\": \"NULLABLE\"}, {\"type\": \"STRING\", \"name\": \"NEIGHBORHOOD_\", \"mode\": \"NULLABLE\"}, {\"type\": \"STRING\", \"name\": \"BUILDING_CLASS_CATEGORY_\", \"mode\": \"NULLABLE\"}, {\"type\": \"STRING\", \"name\": \"TAX_CLASS_AT_PRESENT_\", \"mode\": \"NULLABLE\"}, {\"type\": \"INTEGER\", \"name\": \"BLOCK_\", \"mode\": \"NULLABLE\"}, {\"type\": \"INTEGER\", \"name\": \"LOT_\", \"mode\": \"NULLABLE\"}, {\"type\": \"STRING\", \"name\": \"EASE_MENT_\", \"mode\": \"NULLABLE\"}, {\"type\": \"STRING\", \"name\": \"BUILDING_CLASS_AT_PRESENT_\", \"mode\": \"NULLABLE\"}, {\"type\": \"STRING\", \"name\": \"ADDRESS_\", \"mode\": \"NULLABLE\"}, {\"type\": \"STRING\", \"name\": \"APARTMENT_NUMBER_\", \"mode\": \"NULLABLE\"}, {\"type\": \"INTEGER\", \"name\": \"ZIP_CODE_\", \"mode\": \"NULLABLE\"}, {\"type\": \"INTEGER\", \"name\": \"RESIDENTIAL_UNITS_\", \"mode\": \"NULLABLE\"}, {\"type\": \"INTEGER\", \"name\": \"COMMERCIAL_UNITS_\", \"mode\": \"NULLABLE\"}, {\"type\": \"INTEGER\", \"name\": \"TOTAL_UNITS_\", \"mode\": \"NULLABLE\"}, {\"type\": \"INTEGER\", \"name\": \"LAND_SQUARE_FEET_\", \"mode\": \"NULLABLE\"}, {\"type\": \"INTEGER\", \"name\": \"GROSS_SQUARE_FEET_\", \"mode\": \"NULLABLE\"}, {\"type\": \"INTEGER\", \"name\": \"YEAR_BUILT_\", \"mode\": \"NULLABLE\"}, {\"type\": \"INTEGER\", \"name\": \"TAX_CLASS_AT_TIME_OF_SALE_\", \"mode\": \"NULLABLE\"}, {\"type\": \"STRING\", \"name\": \"BUILDING_CLASS_AT_TIME_OF_SALE_\", \"mode\": \"NULLABLE\"}, {\"type\": \"STRING\", \"name\": \"_SALE_PRICE__\", \"mode\": \"NULLABLE\"}, {\"type\": \"DATE\", \"name\": \"SALE_DATE_\", \"mode\": \"NULLABLE\"}]);\n",
       "        }\n",
       "      );\n",
       "    </script>\n",
       "    "
      ],
      "text/plain": [
       "<IPython.core.display.HTML object>"
      ]
     },
     "execution_count": 6,
     "metadata": {},
     "output_type": "execute_result"
    }
   ],
   "source": [
    "%bigquery schema --table brooklyn_homes.2013_housing_sales"
   ]
  },
  {
   "cell_type": "code",
   "execution_count": 7,
   "metadata": {},
   "outputs": [
    {
     "data": {
      "text/html": [
       "\n",
       "    <div class=\"bqsv\" id=\"2_155598882835\"></div>\n",
       "\n",
       "    <script src=\"/static/components/requirejs/require.js\"></script>\n",
       "    <script>\n",
       "      require.config({\n",
       "        paths: {\n",
       "          base: '/static/base',\n",
       "        },\n",
       "        map: {\n",
       "          '*': {\n",
       "            datalab: 'nbextensions/gcpdatalab'\n",
       "          }\n",
       "        },\n",
       "      });\n",
       "\n",
       "      require(['datalab/bigquery', 'datalab/element!2_155598882835',\n",
       "          'datalab/style!/nbextensions/gcpdatalab/bigquery.css'],\n",
       "        function(bq, dom) {\n",
       "          bq.renderSchema(dom, [{\"type\": \"INTEGER\", \"name\": \"BOROUGH_\", \"mode\": \"NULLABLE\"}, {\"type\": \"STRING\", \"name\": \"NEIGHBORHOOD_\", \"mode\": \"NULLABLE\"}, {\"type\": \"STRING\", \"name\": \"BUILDING_CLASS_CATEGORY_\", \"mode\": \"NULLABLE\"}, {\"type\": \"STRING\", \"name\": \"TAX_CLASS_AS_OF_FINAL_ROLL_17_18\", \"mode\": \"NULLABLE\"}, {\"type\": \"INTEGER\", \"name\": \"BLOCK_\", \"mode\": \"NULLABLE\"}, {\"type\": \"INTEGER\", \"name\": \"LOT_\", \"mode\": \"NULLABLE\"}, {\"type\": \"STRING\", \"name\": \"EASE_MENT_\", \"mode\": \"NULLABLE\"}, {\"type\": \"STRING\", \"name\": \"BUILDING_CLASS_AS_OF_FINAL_ROLL_17_18\", \"mode\": \"NULLABLE\"}, {\"type\": \"STRING\", \"name\": \"ADDRESS_\", \"mode\": \"NULLABLE\"}, {\"type\": \"STRING\", \"name\": \"APARTMENT_NUMBER_\", \"mode\": \"NULLABLE\"}, {\"type\": \"INTEGER\", \"name\": \"ZIP_CODE_\", \"mode\": \"NULLABLE\"}, {\"type\": \"INTEGER\", \"name\": \"RESIDENTIAL_UNITS_\", \"mode\": \"NULLABLE\"}, {\"type\": \"INTEGER\", \"name\": \"COMMERCIAL_UNITS_\", \"mode\": \"NULLABLE\"}, {\"type\": \"INTEGER\", \"name\": \"TOTAL_UNITS_\", \"mode\": \"NULLABLE\"}, {\"type\": \"STRING\", \"name\": \"LAND_SQUARE_FEET_\", \"mode\": \"NULLABLE\"}, {\"type\": \"STRING\", \"name\": \"GROSS_SQUARE_FEET_\", \"mode\": \"NULLABLE\"}, {\"type\": \"INTEGER\", \"name\": \"YEAR_BUILT_\", \"mode\": \"NULLABLE\"}, {\"type\": \"INTEGER\", \"name\": \"TAX_CLASS_AT_TIME_OF_SALE_\", \"mode\": \"NULLABLE\"}, {\"type\": \"STRING\", \"name\": \"BUILDING_CLASS_AT_TIME_OF_SALE_\", \"mode\": \"NULLABLE\"}, {\"type\": \"INTEGER\", \"name\": \"SALE_PRICE_\", \"mode\": \"NULLABLE\"}, {\"type\": \"DATE\", \"name\": \"SALE_DATE_\", \"mode\": \"NULLABLE\"}]);\n",
       "        }\n",
       "      );\n",
       "    </script>\n",
       "    "
      ],
      "text/plain": [
       "<IPython.core.display.HTML object>"
      ]
     },
     "execution_count": 7,
     "metadata": {},
     "output_type": "execute_result"
    }
   ],
   "source": [
    "%bigquery schema --table brooklyn_homes.2017_housing_sales"
   ]
  },
  {
   "cell_type": "code",
   "execution_count": 7,
   "metadata": {},
   "outputs": [
    {
     "data": {
      "text/html": [
       "\n",
       "    <div class=\"bqsv\" id=\"3_155598564760\"></div>\n",
       "\n",
       "    <script src=\"/static/components/requirejs/require.js\"></script>\n",
       "    <script>\n",
       "      require.config({\n",
       "        paths: {\n",
       "          base: '/static/base',\n",
       "        },\n",
       "        map: {\n",
       "          '*': {\n",
       "            datalab: 'nbextensions/gcpdatalab'\n",
       "          }\n",
       "        },\n",
       "      });\n",
       "\n",
       "      require(['datalab/bigquery', 'datalab/element!3_155598564760',\n",
       "          'datalab/style!/nbextensions/gcpdatalab/bigquery.css'],\n",
       "        function(bq, dom) {\n",
       "          bq.renderSchema(dom, [{\"mode\": \"NULLABLE\", \"name\": \"BOROUGH_\", \"type\": \"INTEGER\"}, {\"mode\": \"NULLABLE\", \"name\": \"NEIGHBORHOOD_\", \"type\": \"STRING\"}, {\"mode\": \"NULLABLE\", \"name\": \"BUILDING_CLASS_CATEGORY_\", \"type\": \"STRING\"}, {\"mode\": \"NULLABLE\", \"name\": \"TAX_CLASS_AT_PRESENT_\", \"type\": \"STRING\"}, {\"mode\": \"NULLABLE\", \"name\": \"BLOCK_\", \"type\": \"INTEGER\"}, {\"mode\": \"NULLABLE\", \"name\": \"LOT_\", \"type\": \"INTEGER\"}, {\"mode\": \"NULLABLE\", \"name\": \"EASE_MENT_\", \"type\": \"STRING\"}, {\"mode\": \"NULLABLE\", \"name\": \"BUILDING_CLASS_AT_PRESENT_\", \"type\": \"STRING\"}, {\"mode\": \"NULLABLE\", \"name\": \"ADDRESS_\", \"type\": \"STRING\"}, {\"mode\": \"NULLABLE\", \"name\": \"APARTMENT_NUMBER_\", \"type\": \"STRING\"}, {\"mode\": \"NULLABLE\", \"name\": \"ZIP_CODE_\", \"type\": \"INTEGER\"}, {\"mode\": \"NULLABLE\", \"name\": \"RESIDENTIAL_UNITS_\", \"type\": \"STRING\"}, {\"mode\": \"NULLABLE\", \"name\": \"COMMERCIAL_UNITS_\", \"type\": \"STRING\"}, {\"mode\": \"NULLABLE\", \"name\": \"TOTAL_UNITS_\", \"type\": \"STRING\"}, {\"mode\": \"NULLABLE\", \"name\": \"LAND_SQUARE_FEET_\", \"type\": \"STRING\"}, {\"mode\": \"NULLABLE\", \"name\": \"GROSS_SQUARE_FEET_\", \"type\": \"STRING\"}, {\"mode\": \"NULLABLE\", \"name\": \"YEAR_BUILT_\", \"type\": \"INTEGER\"}, {\"mode\": \"NULLABLE\", \"name\": \"TAX_CLASS_AT_TIME_OF_SALE_\", \"type\": \"INTEGER\"}, {\"mode\": \"NULLABLE\", \"name\": \"BUILDING_CLASS_AT_TIME_OF_SALE_\", \"type\": \"STRING\"}, {\"mode\": \"NULLABLE\", \"name\": \"SALE_PRICE_\", \"type\": \"STRING\"}, {\"mode\": \"NULLABLE\", \"name\": \"SALE_DATE_\", \"type\": \"DATE\"}]);\n",
       "        }\n",
       "      );\n",
       "    </script>\n",
       "    "
      ],
      "text/plain": [
       "<IPython.core.display.HTML object>"
      ]
     },
     "execution_count": 7,
     "metadata": {},
     "output_type": "execute_result"
    }
   ],
   "source": [
    "%bigquery schema --table brooklyn_homes.2016_housing_sales"
   ]
  },
  {
   "cell_type": "code",
   "execution_count": 8,
   "metadata": {},
   "outputs": [
    {
     "data": {
      "text/html": [
       "\n",
       "    <div class=\"bqsv\" id=\"3_155598883370\"></div>\n",
       "\n",
       "    <script src=\"/static/components/requirejs/require.js\"></script>\n",
       "    <script>\n",
       "      require.config({\n",
       "        paths: {\n",
       "          base: '/static/base',\n",
       "        },\n",
       "        map: {\n",
       "          '*': {\n",
       "            datalab: 'nbextensions/gcpdatalab'\n",
       "          }\n",
       "        },\n",
       "      });\n",
       "\n",
       "      require(['datalab/bigquery', 'datalab/element!3_155598883370',\n",
       "          'datalab/style!/nbextensions/gcpdatalab/bigquery.css'],\n",
       "        function(bq, dom) {\n",
       "          bq.renderSchema(dom, [{\"type\": \"INTEGER\", \"name\": \"BOROUGH\", \"mode\": \"NULLABLE\"}, {\"type\": \"STRING\", \"name\": \"NEIGHBORHOOD\", \"mode\": \"NULLABLE\"}, {\"type\": \"STRING\", \"name\": \"BUILDING_CLASS_CATEGORY\", \"mode\": \"NULLABLE\"}, {\"type\": \"STRING\", \"name\": \"TAX_CLASS_AT_PRESENT\", \"mode\": \"NULLABLE\"}, {\"type\": \"INTEGER\", \"name\": \"BLOCK\", \"mode\": \"NULLABLE\"}, {\"type\": \"INTEGER\", \"name\": \"LOT\", \"mode\": \"NULLABLE\"}, {\"type\": \"STRING\", \"name\": \"EASE_MENT\", \"mode\": \"NULLABLE\"}, {\"type\": \"STRING\", \"name\": \"BUILDING_CLASS_AT_PRESENT\", \"mode\": \"NULLABLE\"}, {\"type\": \"STRING\", \"name\": \"ADDRESS\", \"mode\": \"NULLABLE\"}, {\"type\": \"STRING\", \"name\": \"APARTMENT_NUMBER\", \"mode\": \"NULLABLE\"}, {\"type\": \"INTEGER\", \"name\": \"ZIP_CODE\", \"mode\": \"NULLABLE\"}, {\"type\": \"INTEGER\", \"name\": \"RESIDENTIAL_UNITS\", \"mode\": \"NULLABLE\"}, {\"type\": \"INTEGER\", \"name\": \"COMMERCIAL_UNITS\", \"mode\": \"NULLABLE\"}, {\"type\": \"INTEGER\", \"name\": \"TOTAL_UNITS\", \"mode\": \"NULLABLE\"}, {\"type\": \"INTEGER\", \"name\": \"LAND_SQUARE_FEET\", \"mode\": \"NULLABLE\"}, {\"type\": \"INTEGER\", \"name\": \"GROSS_SQUARE_FEET\", \"mode\": \"NULLABLE\"}, {\"type\": \"INTEGER\", \"name\": \"YEAR_BUILT\", \"mode\": \"NULLABLE\"}, {\"type\": \"INTEGER\", \"name\": \"TAX_CLASS_AT_TIME_OF_SALE\", \"mode\": \"NULLABLE\"}, {\"type\": \"STRING\", \"name\": \"BUILDING_CLASS_AT_TIME_OF_SALE\", \"mode\": \"NULLABLE\"}, {\"type\": \"INTEGER\", \"name\": \"SALE_PRICE\", \"mode\": \"NULLABLE\"}, {\"type\": \"DATE\", \"name\": \"SALE_DATE\", \"mode\": \"NULLABLE\"}]);\n",
       "        }\n",
       "      );\n",
       "    </script>\n",
       "    "
      ],
      "text/plain": [
       "<IPython.core.display.HTML object>"
      ]
     },
     "execution_count": 8,
     "metadata": {},
     "output_type": "execute_result"
    }
   ],
   "source": [
    "%bigquery schema --view refined-window-228202:brooklyn_homes.brooklyna"
   ]
  },
  {
   "cell_type": "code",
   "execution_count": 9,
   "metadata": {
    "collapsed": true
   },
   "outputs": [],
   "source": [
    "import google.datalab.bigquery as bq\n",
    "sql = \"\"\"\n",
    "select SALE_PRICE , GROSS_SQUARE_FEET ,TAX_CLASS_AT_TIME_OF_SALE ,NEIGHBORHOOD  from `brooklyn_homes.brooklyna` \n",
    "\"\"\"\n",
    "df = bq.Query(sql).execute().result().to_dataframe()\n"
   ]
  },
  {
   "cell_type": "code",
   "execution_count": 10,
   "metadata": {},
   "outputs": [
    {
     "data": {
      "text/plain": [
       "SALE_PRICE                   1694\n",
       "GROSS_SQUARE_FEET            1704\n",
       "TAX_CLASS_AT_TIME_OF_SALE    1694\n",
       "NEIGHBORHOOD                 1694\n",
       "dtype: int64"
      ]
     },
     "execution_count": 10,
     "metadata": {},
     "output_type": "execute_result"
    }
   ],
   "source": [
    "temp = df.isnull().sum(axis = 0) #Number of NAs from each column\n",
    "temp"
   ]
  },
  {
   "cell_type": "code",
   "execution_count": 11,
   "metadata": {},
   "outputs": [
    {
     "data": {
      "text/plain": [
       "347066"
      ]
     },
     "execution_count": 11,
     "metadata": {},
     "output_type": "execute_result"
    }
   ],
   "source": [
    "df.shape[0]"
   ]
  },
  {
   "cell_type": "code",
   "execution_count": 12,
   "metadata": {},
   "outputs": [
    {
     "data": {
      "text/plain": [
       "1.9638915941060202"
      ]
     },
     "execution_count": 12,
     "metadata": {},
     "output_type": "execute_result"
    }
   ],
   "source": [
    "4*(temp['GROSS_SQUARE_FEET']/df.shape[0])*100"
   ]
  },
  {
   "cell_type": "markdown",
   "metadata": {},
   "source": [
    "If we assume that the number of nulls form an mutually exclusive set i.e for any datapoint having null value, has only one feature as null, the maximum number of data-points that that can be ignored is 4 times the maximum-number of null values of a feature (in this case GROSS_SQUARE_FEET).\n",
    "This forms less than 2 percent of the data.\n",
    "So we can safely conclude that atleast <b>98.04 percent</b> of the data is clean.\n",
    "However, we are assuming here that null values are evenly distributed throughout the data without any relation to any of the features used.i.e the data is not skewed"
   ]
  },
  {
   "cell_type": "markdown",
   "metadata": {},
   "source": [
    "<h3>Beginning exploration - Viewing the first few observations of the dataframe and distributions of the data"
   ]
  },
  {
   "cell_type": "code",
   "execution_count": 13,
   "metadata": {},
   "outputs": [
    {
     "data": {
      "text/html": [
       "<div>\n",
       "<style scoped>\n",
       "    .dataframe tbody tr th:only-of-type {\n",
       "        vertical-align: middle;\n",
       "    }\n",
       "\n",
       "    .dataframe tbody tr th {\n",
       "        vertical-align: top;\n",
       "    }\n",
       "\n",
       "    .dataframe thead th {\n",
       "        text-align: right;\n",
       "    }\n",
       "</style>\n",
       "<table border=\"1\" class=\"dataframe\">\n",
       "  <thead>\n",
       "    <tr style=\"text-align: right;\">\n",
       "      <th></th>\n",
       "      <th>SALE_PRICE</th>\n",
       "      <th>GROSS_SQUARE_FEET</th>\n",
       "      <th>TAX_CLASS_AT_TIME_OF_SALE</th>\n",
       "      <th>NEIGHBORHOOD</th>\n",
       "    </tr>\n",
       "  </thead>\n",
       "  <tbody>\n",
       "    <tr>\n",
       "      <th>0</th>\n",
       "      <td>5040000.0</td>\n",
       "      <td>18140.0</td>\n",
       "      <td>2.0</td>\n",
       "      <td>BATH BEACH</td>\n",
       "    </tr>\n",
       "    <tr>\n",
       "      <th>1</th>\n",
       "      <td>0.0</td>\n",
       "      <td>22140.0</td>\n",
       "      <td>2.0</td>\n",
       "      <td>BATH BEACH</td>\n",
       "    </tr>\n",
       "    <tr>\n",
       "      <th>2</th>\n",
       "      <td>3100000.0</td>\n",
       "      <td>13940.0</td>\n",
       "      <td>2.0</td>\n",
       "      <td>BATH BEACH</td>\n",
       "    </tr>\n",
       "    <tr>\n",
       "      <th>3</th>\n",
       "      <td>3700000.0</td>\n",
       "      <td>17800.0</td>\n",
       "      <td>2.0</td>\n",
       "      <td>BAY RIDGE</td>\n",
       "    </tr>\n",
       "    <tr>\n",
       "      <th>4</th>\n",
       "      <td>10700000.0</td>\n",
       "      <td>46200.0</td>\n",
       "      <td>2.0</td>\n",
       "      <td>BAY RIDGE</td>\n",
       "    </tr>\n",
       "  </tbody>\n",
       "</table>\n",
       "</div>"
      ],
      "text/plain": [
       "   SALE_PRICE  GROSS_SQUARE_FEET  TAX_CLASS_AT_TIME_OF_SALE  \\\n",
       "0   5040000.0            18140.0                        2.0   \n",
       "1         0.0            22140.0                        2.0   \n",
       "2   3100000.0            13940.0                        2.0   \n",
       "3   3700000.0            17800.0                        2.0   \n",
       "4  10700000.0            46200.0                        2.0   \n",
       "\n",
       "                NEIGHBORHOOD  \n",
       "0  BATH BEACH                 \n",
       "1  BATH BEACH                 \n",
       "2  BATH BEACH                 \n",
       "3  BAY RIDGE                  \n",
       "4  BAY RIDGE                  "
      ]
     },
     "execution_count": 13,
     "metadata": {},
     "output_type": "execute_result"
    }
   ],
   "source": [
    "df.head()"
   ]
  },
  {
   "cell_type": "code",
   "execution_count": 14,
   "metadata": {},
   "outputs": [
    {
     "data": {
      "text/html": [
       "<div>\n",
       "<style scoped>\n",
       "    .dataframe tbody tr th:only-of-type {\n",
       "        vertical-align: middle;\n",
       "    }\n",
       "\n",
       "    .dataframe tbody tr th {\n",
       "        vertical-align: top;\n",
       "    }\n",
       "\n",
       "    .dataframe thead th {\n",
       "        text-align: right;\n",
       "    }\n",
       "</style>\n",
       "<table border=\"1\" class=\"dataframe\">\n",
       "  <thead>\n",
       "    <tr style=\"text-align: right;\">\n",
       "      <th></th>\n",
       "      <th>SALE_PRICE</th>\n",
       "      <th>GROSS_SQUARE_FEET</th>\n",
       "      <th>TAX_CLASS_AT_TIME_OF_SALE</th>\n",
       "    </tr>\n",
       "  </thead>\n",
       "  <tbody>\n",
       "    <tr>\n",
       "      <th>count</th>\n",
       "      <td>3.453720e+05</td>\n",
       "      <td>3.453620e+05</td>\n",
       "      <td>345372.000000</td>\n",
       "    </tr>\n",
       "    <tr>\n",
       "      <th>mean</th>\n",
       "      <td>4.803584e+05</td>\n",
       "      <td>3.101535e+03</td>\n",
       "      <td>1.647178</td>\n",
       "    </tr>\n",
       "    <tr>\n",
       "      <th>std</th>\n",
       "      <td>2.644632e+06</td>\n",
       "      <td>1.566985e+04</td>\n",
       "      <td>0.915807</td>\n",
       "    </tr>\n",
       "    <tr>\n",
       "      <th>min</th>\n",
       "      <td>0.000000e+00</td>\n",
       "      <td>0.000000e+00</td>\n",
       "      <td>1.000000</td>\n",
       "    </tr>\n",
       "    <tr>\n",
       "      <th>25%</th>\n",
       "      <td>0.000000e+00</td>\n",
       "      <td>0.000000e+00</td>\n",
       "      <td>1.000000</td>\n",
       "    </tr>\n",
       "    <tr>\n",
       "      <th>50%</th>\n",
       "      <td>2.600000e+05</td>\n",
       "      <td>1.848000e+03</td>\n",
       "      <td>1.000000</td>\n",
       "    </tr>\n",
       "    <tr>\n",
       "      <th>75%</th>\n",
       "      <td>5.700000e+05</td>\n",
       "      <td>3.000000e+03</td>\n",
       "      <td>2.000000</td>\n",
       "    </tr>\n",
       "    <tr>\n",
       "      <th>max</th>\n",
       "      <td>8.696129e+08</td>\n",
       "      <td>2.548000e+06</td>\n",
       "      <td>4.000000</td>\n",
       "    </tr>\n",
       "  </tbody>\n",
       "</table>\n",
       "</div>"
      ],
      "text/plain": [
       "         SALE_PRICE  GROSS_SQUARE_FEET  TAX_CLASS_AT_TIME_OF_SALE\n",
       "count  3.453720e+05       3.453620e+05              345372.000000\n",
       "mean   4.803584e+05       3.101535e+03                   1.647178\n",
       "std    2.644632e+06       1.566985e+04                   0.915807\n",
       "min    0.000000e+00       0.000000e+00                   1.000000\n",
       "25%    0.000000e+00       0.000000e+00                   1.000000\n",
       "50%    2.600000e+05       1.848000e+03                   1.000000\n",
       "75%    5.700000e+05       3.000000e+03                   2.000000\n",
       "max    8.696129e+08       2.548000e+06                   4.000000"
      ]
     },
     "execution_count": 14,
     "metadata": {},
     "output_type": "execute_result"
    }
   ],
   "source": [
    "df.describe()"
   ]
  },
  {
   "cell_type": "markdown",
   "metadata": {},
   "source": [
    "Exploring the tables that did not successfully join into the combined view - tables for years 2013,2016,2017"
   ]
  },
  {
   "cell_type": "code",
   "execution_count": 15,
   "metadata": {
    "collapsed": true
   },
   "outputs": [],
   "source": [
    "sql = ''' \n",
    "SELECT _SALE_PRICE__ ,GROSS_SQUARE_FEET_ ,TAX_CLASS_AT_TIME_OF_SALE_ , NEIGHBORHOOD_  \n",
    "FROM `brooklyn_homes.2013_housing_sales` \n",
    "'''\n",
    "df1 = bq.Query(sql).execute().result().to_dataframe()"
   ]
  },
  {
   "cell_type": "code",
   "execution_count": 16,
   "metadata": {},
   "outputs": [
    {
     "data": {
      "text/html": [
       "<div>\n",
       "<style scoped>\n",
       "    .dataframe tbody tr th:only-of-type {\n",
       "        vertical-align: middle;\n",
       "    }\n",
       "\n",
       "    .dataframe tbody tr th {\n",
       "        vertical-align: top;\n",
       "    }\n",
       "\n",
       "    .dataframe thead th {\n",
       "        text-align: right;\n",
       "    }\n",
       "</style>\n",
       "<table border=\"1\" class=\"dataframe\">\n",
       "  <thead>\n",
       "    <tr style=\"text-align: right;\">\n",
       "      <th></th>\n",
       "      <th>GROSS_SQUARE_FEET_</th>\n",
       "      <th>TAX_CLASS_AT_TIME_OF_SALE_</th>\n",
       "    </tr>\n",
       "  </thead>\n",
       "  <tbody>\n",
       "    <tr>\n",
       "      <th>count</th>\n",
       "      <td>2.484200e+04</td>\n",
       "      <td>24842.000000</td>\n",
       "    </tr>\n",
       "    <tr>\n",
       "      <th>mean</th>\n",
       "      <td>3.088459e+03</td>\n",
       "      <td>1.681869</td>\n",
       "    </tr>\n",
       "    <tr>\n",
       "      <th>std</th>\n",
       "      <td>1.841045e+04</td>\n",
       "      <td>0.911237</td>\n",
       "    </tr>\n",
       "    <tr>\n",
       "      <th>min</th>\n",
       "      <td>0.000000e+00</td>\n",
       "      <td>1.000000</td>\n",
       "    </tr>\n",
       "    <tr>\n",
       "      <th>25%</th>\n",
       "      <td>0.000000e+00</td>\n",
       "      <td>1.000000</td>\n",
       "    </tr>\n",
       "    <tr>\n",
       "      <th>50%</th>\n",
       "      <td>1.790000e+03</td>\n",
       "      <td>1.000000</td>\n",
       "    </tr>\n",
       "    <tr>\n",
       "      <th>75%</th>\n",
       "      <td>3.000000e+03</td>\n",
       "      <td>2.000000</td>\n",
       "    </tr>\n",
       "    <tr>\n",
       "      <th>max</th>\n",
       "      <td>1.324592e+06</td>\n",
       "      <td>4.000000</td>\n",
       "    </tr>\n",
       "  </tbody>\n",
       "</table>\n",
       "</div>"
      ],
      "text/plain": [
       "       GROSS_SQUARE_FEET_  TAX_CLASS_AT_TIME_OF_SALE_\n",
       "count        2.484200e+04                24842.000000\n",
       "mean         3.088459e+03                    1.681869\n",
       "std          1.841045e+04                    0.911237\n",
       "min          0.000000e+00                    1.000000\n",
       "25%          0.000000e+00                    1.000000\n",
       "50%          1.790000e+03                    1.000000\n",
       "75%          3.000000e+03                    2.000000\n",
       "max          1.324592e+06                    4.000000"
      ]
     },
     "execution_count": 16,
     "metadata": {},
     "output_type": "execute_result"
    }
   ],
   "source": [
    "df1.describe()"
   ]
  },
  {
   "cell_type": "code",
   "execution_count": 17,
   "metadata": {},
   "outputs": [
    {
     "data": {
      "text/html": [
       "<div>\n",
       "<style scoped>\n",
       "    .dataframe tbody tr th:only-of-type {\n",
       "        vertical-align: middle;\n",
       "    }\n",
       "\n",
       "    .dataframe tbody tr th {\n",
       "        vertical-align: top;\n",
       "    }\n",
       "\n",
       "    .dataframe thead th {\n",
       "        text-align: right;\n",
       "    }\n",
       "</style>\n",
       "<table border=\"1\" class=\"dataframe\">\n",
       "  <thead>\n",
       "    <tr style=\"text-align: right;\">\n",
       "      <th></th>\n",
       "      <th>_SALE_PRICE__</th>\n",
       "      <th>GROSS_SQUARE_FEET_</th>\n",
       "      <th>TAX_CLASS_AT_TIME_OF_SALE_</th>\n",
       "      <th>NEIGHBORHOOD_</th>\n",
       "    </tr>\n",
       "  </thead>\n",
       "  <tbody>\n",
       "    <tr>\n",
       "      <th>0</th>\n",
       "      <td>$-</td>\n",
       "      <td>28400.0</td>\n",
       "      <td>2.0</td>\n",
       "      <td>BATH BEACH</td>\n",
       "    </tr>\n",
       "    <tr>\n",
       "      <th>1</th>\n",
       "      <td>$4,050,000.00</td>\n",
       "      <td>27000.0</td>\n",
       "      <td>2.0</td>\n",
       "      <td>BATH BEACH</td>\n",
       "    </tr>\n",
       "    <tr>\n",
       "      <th>2</th>\n",
       "      <td>$-</td>\n",
       "      <td>8760.0</td>\n",
       "      <td>2.0</td>\n",
       "      <td>BATH BEACH</td>\n",
       "    </tr>\n",
       "    <tr>\n",
       "      <th>3</th>\n",
       "      <td>$-</td>\n",
       "      <td>42720.0</td>\n",
       "      <td>2.0</td>\n",
       "      <td>BATH BEACH</td>\n",
       "    </tr>\n",
       "    <tr>\n",
       "      <th>4</th>\n",
       "      <td>$2,000,000.00</td>\n",
       "      <td>17800.0</td>\n",
       "      <td>2.0</td>\n",
       "      <td>BAY RIDGE</td>\n",
       "    </tr>\n",
       "  </tbody>\n",
       "</table>\n",
       "</div>"
      ],
      "text/plain": [
       "     _SALE_PRICE__  GROSS_SQUARE_FEET_  TAX_CLASS_AT_TIME_OF_SALE_  \\\n",
       "0            $-                28400.0                         2.0   \n",
       "1   $4,050,000.00              27000.0                         2.0   \n",
       "2            $-                 8760.0                         2.0   \n",
       "3            $-                42720.0                         2.0   \n",
       "4   $2,000,000.00              17800.0                         2.0   \n",
       "\n",
       "               NEIGHBORHOOD_  \n",
       "0  BATH BEACH                 \n",
       "1  BATH BEACH                 \n",
       "2  BATH BEACH                 \n",
       "3  BATH BEACH                 \n",
       "4  BAY RIDGE                  "
      ]
     },
     "execution_count": 17,
     "metadata": {},
     "output_type": "execute_result"
    }
   ],
   "source": [
    "df1.head()"
   ]
  },
  {
   "cell_type": "code",
   "execution_count": 18,
   "metadata": {},
   "outputs": [
    {
     "data": {
      "text/html": [
       "<div>\n",
       "<style scoped>\n",
       "    .dataframe tbody tr th:only-of-type {\n",
       "        vertical-align: middle;\n",
       "    }\n",
       "\n",
       "    .dataframe tbody tr th {\n",
       "        vertical-align: top;\n",
       "    }\n",
       "\n",
       "    .dataframe thead th {\n",
       "        text-align: right;\n",
       "    }\n",
       "</style>\n",
       "<table border=\"1\" class=\"dataframe\">\n",
       "  <thead>\n",
       "    <tr style=\"text-align: right;\">\n",
       "      <th></th>\n",
       "      <th>SALE_PRICE_</th>\n",
       "      <th>GROSS_SQUARE_FEET_</th>\n",
       "      <th>TAX_CLASS_AT_TIME_OF_SALE_</th>\n",
       "      <th>NEIGHBORHOOD_</th>\n",
       "    </tr>\n",
       "  </thead>\n",
       "  <tbody>\n",
       "    <tr>\n",
       "      <th>0</th>\n",
       "      <td>-</td>\n",
       "      <td>24,880</td>\n",
       "      <td>2</td>\n",
       "      <td>BAY RIDGE</td>\n",
       "    </tr>\n",
       "    <tr>\n",
       "      <th>1</th>\n",
       "      <td>-</td>\n",
       "      <td>24,880</td>\n",
       "      <td>2</td>\n",
       "      <td>BAY RIDGE</td>\n",
       "    </tr>\n",
       "    <tr>\n",
       "      <th>2</th>\n",
       "      <td>4,600,000</td>\n",
       "      <td>17,280</td>\n",
       "      <td>2</td>\n",
       "      <td>BAY RIDGE</td>\n",
       "    </tr>\n",
       "    <tr>\n",
       "      <th>3</th>\n",
       "      <td>1,845,000</td>\n",
       "      <td>7,740</td>\n",
       "      <td>2</td>\n",
       "      <td>BAY RIDGE</td>\n",
       "    </tr>\n",
       "    <tr>\n",
       "      <th>4</th>\n",
       "      <td>6,400,000</td>\n",
       "      <td>12,609</td>\n",
       "      <td>2</td>\n",
       "      <td>BAY RIDGE</td>\n",
       "    </tr>\n",
       "  </tbody>\n",
       "</table>\n",
       "</div>"
      ],
      "text/plain": [
       "   SALE_PRICE_ GROSS_SQUARE_FEET_  TAX_CLASS_AT_TIME_OF_SALE_  \\\n",
       "0         -               24,880                            2   \n",
       "1         -               24,880                            2   \n",
       "2   4,600,000             17,280                            2   \n",
       "3   1,845,000              7,740                            2   \n",
       "4   6,400,000             12,609                            2   \n",
       "\n",
       "               NEIGHBORHOOD_  \n",
       "0  BAY RIDGE                  \n",
       "1  BAY RIDGE                  \n",
       "2  BAY RIDGE                  \n",
       "3  BAY RIDGE                  \n",
       "4  BAY RIDGE                  "
      ]
     },
     "execution_count": 18,
     "metadata": {},
     "output_type": "execute_result"
    }
   ],
   "source": [
    "sql = '''SELECT SALE_PRICE_ ,GROSS_SQUARE_FEET_ ,TAX_CLASS_AT_TIME_OF_SALE_ ,\n",
    "NEIGHBORHOOD_  FROM `brooklyn_homes.2016_housing_sales` '''\n",
    "df2 = bq.Query(sql).execute().result().to_dataframe()\n",
    "df2.head()"
   ]
  },
  {
   "cell_type": "code",
   "execution_count": 19,
   "metadata": {},
   "outputs": [
    {
     "data": {
      "text/html": [
       "<div>\n",
       "<style scoped>\n",
       "    .dataframe tbody tr th:only-of-type {\n",
       "        vertical-align: middle;\n",
       "    }\n",
       "\n",
       "    .dataframe tbody tr th {\n",
       "        vertical-align: top;\n",
       "    }\n",
       "\n",
       "    .dataframe thead th {\n",
       "        text-align: right;\n",
       "    }\n",
       "</style>\n",
       "<table border=\"1\" class=\"dataframe\">\n",
       "  <thead>\n",
       "    <tr style=\"text-align: right;\">\n",
       "      <th></th>\n",
       "      <th>SALE_PRICE_</th>\n",
       "      <th>GROSS_SQUARE_FEET_</th>\n",
       "      <th>TAX_CLASS_AT_TIME_OF_SALE_</th>\n",
       "      <th>NEIGHBORHOOD_</th>\n",
       "    </tr>\n",
       "  </thead>\n",
       "  <tbody>\n",
       "    <tr>\n",
       "      <th>0</th>\n",
       "      <td>0</td>\n",
       "      <td>43,600</td>\n",
       "      <td>2</td>\n",
       "      <td>BATH BEACH</td>\n",
       "    </tr>\n",
       "    <tr>\n",
       "      <th>1</th>\n",
       "      <td>0</td>\n",
       "      <td>12,160</td>\n",
       "      <td>2</td>\n",
       "      <td>BAY RIDGE</td>\n",
       "    </tr>\n",
       "    <tr>\n",
       "      <th>2</th>\n",
       "      <td>3410000</td>\n",
       "      <td>12,160</td>\n",
       "      <td>2</td>\n",
       "      <td>BAY RIDGE</td>\n",
       "    </tr>\n",
       "    <tr>\n",
       "      <th>3</th>\n",
       "      <td>4850000</td>\n",
       "      <td>12,000</td>\n",
       "      <td>2</td>\n",
       "      <td>BAY RIDGE</td>\n",
       "    </tr>\n",
       "    <tr>\n",
       "      <th>4</th>\n",
       "      <td>5300000</td>\n",
       "      <td>12,001</td>\n",
       "      <td>2</td>\n",
       "      <td>BAY RIDGE</td>\n",
       "    </tr>\n",
       "  </tbody>\n",
       "</table>\n",
       "</div>"
      ],
      "text/plain": [
       "   SALE_PRICE_ GROSS_SQUARE_FEET_  TAX_CLASS_AT_TIME_OF_SALE_ NEIGHBORHOOD_\n",
       "0            0            43,600                            2    BATH BEACH\n",
       "1            0            12,160                            2     BAY RIDGE\n",
       "2      3410000            12,160                            2     BAY RIDGE\n",
       "3      4850000            12,000                            2     BAY RIDGE\n",
       "4      5300000            12,001                            2     BAY RIDGE"
      ]
     },
     "execution_count": 19,
     "metadata": {},
     "output_type": "execute_result"
    }
   ],
   "source": [
    "sql = '''SELECT SALE_PRICE_ ,GROSS_SQUARE_FEET_ ,\n",
    "TAX_CLASS_AT_TIME_OF_SALE_ , NEIGHBORHOOD_  FROM `brooklyn_homes.2017_housing_sales` '''\n",
    "df3 = bq.Query(sql).execute().result().to_dataframe()\n",
    "df3.head()"
   ]
  },
  {
   "cell_type": "code",
   "execution_count": 20,
   "metadata": {},
   "outputs": [
    {
     "data": {
      "text/plain": [
       "SALE_PRICE                   float64\n",
       "GROSS_SQUARE_FEET            float64\n",
       "TAX_CLASS_AT_TIME_OF_SALE    float64\n",
       "NEIGHBORHOOD                  object\n",
       "dtype: object"
      ]
     },
     "execution_count": 20,
     "metadata": {},
     "output_type": "execute_result"
    }
   ],
   "source": [
    "df.dtypes"
   ]
  },
  {
   "cell_type": "code",
   "execution_count": 21,
   "metadata": {},
   "outputs": [
    {
     "data": {
      "text/plain": [
       "_SALE_PRICE__                  object\n",
       "GROSS_SQUARE_FEET_            float64\n",
       "TAX_CLASS_AT_TIME_OF_SALE_    float64\n",
       "NEIGHBORHOOD_                  object\n",
       "dtype: object"
      ]
     },
     "execution_count": 21,
     "metadata": {},
     "output_type": "execute_result"
    }
   ],
   "source": [
    "df1.dtypes"
   ]
  },
  {
   "cell_type": "code",
   "execution_count": 22,
   "metadata": {},
   "outputs": [
    {
     "data": {
      "text/plain": [
       "SALE_PRICE_                   object\n",
       "GROSS_SQUARE_FEET_            object\n",
       "TAX_CLASS_AT_TIME_OF_SALE_     int64\n",
       "NEIGHBORHOOD_                 object\n",
       "dtype: object"
      ]
     },
     "execution_count": 22,
     "metadata": {},
     "output_type": "execute_result"
    }
   ],
   "source": [
    "df2.dtypes"
   ]
  },
  {
   "cell_type": "code",
   "execution_count": 23,
   "metadata": {},
   "outputs": [
    {
     "data": {
      "text/plain": [
       "SALE_PRICE_                    int64\n",
       "GROSS_SQUARE_FEET_            object\n",
       "TAX_CLASS_AT_TIME_OF_SALE_     int64\n",
       "NEIGHBORHOOD_                 object\n",
       "dtype: object"
      ]
     },
     "execution_count": 23,
     "metadata": {},
     "output_type": "execute_result"
    }
   ],
   "source": [
    "df3.dtypes"
   ]
  },
  {
   "cell_type": "code",
   "execution_count": 24,
   "metadata": {
    "collapsed": true
   },
   "outputs": [],
   "source": [
    "df1=df1.rename(index=str,columns ={\"_SALE_PRICE__\":\"SALE_PRICE\",\"TAX_CLASS_AT_TIME_OF_SALE_\":\"TAX_CLASS_AT_TIME_OF_SALE\",\n",
    "                               \"GROSS_SQUARE_FEET_\":\"GROSS_SQUARE_FEET\",\"NEIGHBORHOOD_\":\"NEIGHBORHOOD\"})\n",
    "df2=df2.rename(index=str,columns ={\"SALE_PRICE_\":\"SALE_PRICE\",\"TAX_CLASS_AT_TIME_OF_SALE_\":\"TAX_CLASS_AT_TIME_OF_SALE\",\n",
    "                              \"GROSS_SQUARE_FEET_\":\"GROSS_SQUARE_FEET\",\"NEIGHBORHOOD_\":\"NEIGHBORHOOD\"})\n",
    "df3=df3.rename(index=str,columns ={\"SALE_PRICE_\":\"SALE_PRICE\",\"TAX_CLASS_AT_TIME_OF_SALE_\":\"TAX_CLASS_AT_TIME_OF_SALE\",\n",
    "                              \"GROSS_SQUARE_FEET_\":\"GROSS_SQUARE_FEET\",\"NEIGHBORHOOD_\":\"NEIGHBORHOOD\"})"
   ]
  },
  {
   "cell_type": "code",
   "execution_count": 25,
   "metadata": {
    "collapsed": true
   },
   "outputs": [],
   "source": [
    "sql = '''select round(avg(SALE_PRICE),3) as AVG_SALE_PRICE,2019-YEAR_BUILT as age from `brooklyn_homes.brooklyna` where YEAR_BUILT > 2002 \n",
    "group by age having AVG_SALE_PRICE<>0 order by AVG_SALE_PRICE desc\n",
    "'''\n",
    "df4 =  bq.Query(sql).execute().result().to_dataframe()"
   ]
  },
  {
   "cell_type": "code",
   "execution_count": 26,
   "metadata": {},
   "outputs": [
    {
     "data": {
      "text/html": [
       "<div>\n",
       "<style scoped>\n",
       "    .dataframe tbody tr th:only-of-type {\n",
       "        vertical-align: middle;\n",
       "    }\n",
       "\n",
       "    .dataframe tbody tr th {\n",
       "        vertical-align: top;\n",
       "    }\n",
       "\n",
       "    .dataframe thead th {\n",
       "        text-align: right;\n",
       "    }\n",
       "</style>\n",
       "<table border=\"1\" class=\"dataframe\">\n",
       "  <thead>\n",
       "    <tr style=\"text-align: right;\">\n",
       "      <th></th>\n",
       "      <th>AVG_SALE_PRICE</th>\n",
       "      <th>age</th>\n",
       "    </tr>\n",
       "  </thead>\n",
       "  <tbody>\n",
       "    <tr>\n",
       "      <th>0</th>\n",
       "      <td>1185601.823</td>\n",
       "      <td>5</td>\n",
       "    </tr>\n",
       "    <tr>\n",
       "      <th>1</th>\n",
       "      <td>1157770.066</td>\n",
       "      <td>4</td>\n",
       "    </tr>\n",
       "    <tr>\n",
       "      <th>2</th>\n",
       "      <td>1080826.595</td>\n",
       "      <td>6</td>\n",
       "    </tr>\n",
       "    <tr>\n",
       "      <th>3</th>\n",
       "      <td>829094.213</td>\n",
       "      <td>3</td>\n",
       "    </tr>\n",
       "    <tr>\n",
       "      <th>4</th>\n",
       "      <td>792131.270</td>\n",
       "      <td>2</td>\n",
       "    </tr>\n",
       "    <tr>\n",
       "      <th>5</th>\n",
       "      <td>711269.461</td>\n",
       "      <td>7</td>\n",
       "    </tr>\n",
       "    <tr>\n",
       "      <th>6</th>\n",
       "      <td>651446.280</td>\n",
       "      <td>10</td>\n",
       "    </tr>\n",
       "    <tr>\n",
       "      <th>7</th>\n",
       "      <td>594361.955</td>\n",
       "      <td>11</td>\n",
       "    </tr>\n",
       "    <tr>\n",
       "      <th>8</th>\n",
       "      <td>590764.660</td>\n",
       "      <td>1</td>\n",
       "    </tr>\n",
       "    <tr>\n",
       "      <th>9</th>\n",
       "      <td>588616.028</td>\n",
       "      <td>8</td>\n",
       "    </tr>\n",
       "    <tr>\n",
       "      <th>10</th>\n",
       "      <td>499333.168</td>\n",
       "      <td>12</td>\n",
       "    </tr>\n",
       "    <tr>\n",
       "      <th>11</th>\n",
       "      <td>495880.549</td>\n",
       "      <td>9</td>\n",
       "    </tr>\n",
       "    <tr>\n",
       "      <th>12</th>\n",
       "      <td>479834.521</td>\n",
       "      <td>13</td>\n",
       "    </tr>\n",
       "    <tr>\n",
       "      <th>13</th>\n",
       "      <td>466577.520</td>\n",
       "      <td>14</td>\n",
       "    </tr>\n",
       "    <tr>\n",
       "      <th>14</th>\n",
       "      <td>378908.815</td>\n",
       "      <td>16</td>\n",
       "    </tr>\n",
       "    <tr>\n",
       "      <th>15</th>\n",
       "      <td>367082.592</td>\n",
       "      <td>15</td>\n",
       "    </tr>\n",
       "  </tbody>\n",
       "</table>\n",
       "</div>"
      ],
      "text/plain": [
       "    AVG_SALE_PRICE  age\n",
       "0      1185601.823    5\n",
       "1      1157770.066    4\n",
       "2      1080826.595    6\n",
       "3       829094.213    3\n",
       "4       792131.270    2\n",
       "5       711269.461    7\n",
       "6       651446.280   10\n",
       "7       594361.955   11\n",
       "8       590764.660    1\n",
       "9       588616.028    8\n",
       "10      499333.168   12\n",
       "11      495880.549    9\n",
       "12      479834.521   13\n",
       "13      466577.520   14\n",
       "14      378908.815   16\n",
       "15      367082.592   15"
      ]
     },
     "execution_count": 26,
     "metadata": {},
     "output_type": "execute_result"
    }
   ],
   "source": [
    "df4"
   ]
  },
  {
   "cell_type": "markdown",
   "metadata": {},
   "source": [
    "<h4>Visual #1. Graphing Average Sale Price as a function of Property Age</h4>\n",
    "The plot clearly shows that as the age of a property increases, the sale price of the property decreases"
   ]
  },
  {
   "cell_type": "code",
   "execution_count": 27,
   "metadata": {},
   "outputs": [
    {
     "name": "stderr",
     "output_type": "stream",
     "text": [
      "/usr/local/envs/py3env/lib/python3.5/site-packages/matplotlib/font_manager.py:1320: UserWarning: findfont: Font family ['sans-serif'] not found. Falling back to DejaVu Sans\n",
      "  (prop.get_family(), self.defaultFamily[fontext]))\n"
     ]
    },
    {
     "data": {
      "image/png": "[encoded data removed]",
      "text/plain": [
       "<matplotlib.figure.Figure at 0x7f5c315e6be0>"
      ]
     },
     "metadata": {},
     "output_type": "display_data"
    }
   ],
   "source": [
    "#y_pos = np.arange(len(objects))\n",
    "ax = sns.lmplot(x=\"age\", y=\"AVG_SALE_PRICE\", data=df4)\n",
    "ax.set(xlabel='Age of the property', ylabel='Average Sale Price')\n",
    "plt.show()"
   ]
  },
  {
   "cell_type": "code",
   "execution_count": 28,
   "metadata": {
    "collapsed": true
   },
   "outputs": [],
   "source": [
    "# sql =\"\"\"select TOTAL_UNITS ,2019-YEAR_BUILT as age\n",
    "# from `brooklyn_homes.brooklyna`  where YEAR_BUILT > 2002 and TOTAL_UNITS is not NULL order by age desc\"\"\""
   ]
  },
  {
   "cell_type": "code",
   "execution_count": 29,
   "metadata": {
    "collapsed": true
   },
   "outputs": [],
   "source": [
    "sql = '''select SALE_PRICE,GROSS_SQUARE_FEET \n",
    " from `brooklyn_homes.brooklyna` where LAND_SQUARE_FEET is not null and GROSS_SQUARE_FEET is not null \n",
    "and GROSS_SQUARE_FEET <> 0 and GROSS_SQUARE_FEET< 500000 and SALE_PRICE>50000 order by SALE_PRICE desc \n",
    "'''\n",
    "df5 = bq.Query(sql).execute().result().to_dataframe()"
   ]
  },
  {
   "cell_type": "markdown",
   "metadata": {},
   "source": [
    "<h4>Visual #2. Scatterplot of Sale Price as a function of property Gross Square Feet. </h4>\n",
    "Confirms our intuition of a generally linear relationship. Shows that most observations are clustered around the smaller square footage range. "
   ]
  },
  {
   "cell_type": "code",
   "execution_count": 30,
   "metadata": {},
   "outputs": [
    {
     "name": "stderr",
     "output_type": "stream",
     "text": [
      "/usr/local/envs/py3env/lib/python3.5/site-packages/matplotlib/font_manager.py:1320: UserWarning: findfont: Font family ['sans-serif'] not found. Falling back to DejaVu Sans\n",
      "  (prop.get_family(), self.defaultFamily[fontext]))\n"
     ]
    },
    {
     "data": {
      "image/png": "[encoded data removed]",
      "text/plain": [
       "<matplotlib.figure.Figure at 0x7f5c38131320>"
      ]
     },
     "metadata": {},
     "output_type": "display_data"
    }
   ],
   "source": [
    "#ax = sns.lmplot(x=\"SALE_PRICE\", y=\"divo\", data=df4)\n",
    "ax = sns.lmplot(x='GROSS_SQUARE_FEET',y='SALE_PRICE',data=df5)\n",
    "ax.set(xlabel='Sales Price', ylabel='Gross Square Feet')\n",
    "plt.show()"
   ]
  },
  {
   "cell_type": "markdown",
   "metadata": {},
   "source": [
    "<h4>Digging deeper into the smaller property</h4>"
   ]
  },
  {
   "cell_type": "code",
   "execution_count": 34,
   "metadata": {
    "collapsed": true
   },
   "outputs": [],
   "source": [
    "sql = '''select SALE_PRICE,GROSS_SQUARE_FEET \n",
    " from `brooklyn_homes.brooklyna` where LAND_SQUARE_FEET is not null and GROSS_SQUARE_FEET is not null \n",
    "and GROSS_SQUARE_FEET <> 0 and GROSS_SQUARE_FEET< 1000 and SALE_PRICE<540000 and SALE_PRICE<>0 order by SALE_PRICE desc \n",
    "'''\n",
    "df5 = bq.Query(sql).execute().result().to_dataframe()\n"
   ]
  },
  {
   "cell_type": "code",
   "execution_count": 32,
   "metadata": {},
   "outputs": [
    {
     "name": "stderr",
     "output_type": "stream",
     "text": [
      "/usr/local/envs/py3env/lib/python3.5/site-packages/matplotlib/font_manager.py:1320: UserWarning: findfont: Font family ['sans-serif'] not found. Falling back to DejaVu Sans\n",
      "  (prop.get_family(), self.defaultFamily[fontext]))\n"
     ]
    },
    {
     "data": {
      "text/plain": [
       "<seaborn.axisgrid.JointGrid at 0x7f199d100cc0>"
      ]
     },
     "execution_count": 32,
     "metadata": {},
     "output_type": "execute_result"
    },
    {
     "data": {
      "image/png": "[encoded data removed]",
      "text/plain": [
       "<matplotlib.figure.Figure at 0x7f199d100940>"
      ]
     },
     "metadata": {},
     "output_type": "display_data"
    }
   ],
   "source": [
    "# Custom the histogram and add rug:\n",
    "sns.jointplot(x=df5[\"SALE_PRICE\"], y=df5[\"GROSS_SQUARE_FEET\"], kind='kde')"
   ]
  },
  {
   "cell_type": "markdown",
   "metadata": {},
   "source": [
    "For the smaller units, the pearsonr coefficient is around 0.22. This indicates a weak linear relationship between Gross Square Feet and Sales Price. Certainly, this graph indicates that gross Square feet is not the real indicator of the price. There are many more features such as type of school, basic anemities, connectivity, transportation that determine the price of the property"
   ]
  },
  {
   "cell_type": "code",
   "execution_count": 35,
   "metadata": {
    "collapsed": true
   },
   "outputs": [],
   "source": [
    "sql = \"\"\"\n",
    "select SALE_PRICE , GROSS_SQUARE_FEET ,LAND_SQUARE_FEET  from `brooklyn_homes.brooklyna` \n",
    "\"\"\"\n",
    "df6 = bq.Query(sql).execute().result().to_dataframe()"
   ]
  },
  {
   "cell_type": "markdown",
   "metadata": {},
   "source": [
    "<h4>Visual #3. Heatmap of correlations among explanatory variables.</h4>\n",
    "We use this to identify interactions among the explanatory variables in our model, to avoid collinearity problems. "
   ]
  },
  {
   "cell_type": "code",
   "execution_count": 36,
   "metadata": {},
   "outputs": [
    {
     "name": "stderr",
     "output_type": "stream",
     "text": [
      "/usr/local/envs/py3env/lib/python3.5/site-packages/matplotlib/font_manager.py:1320: UserWarning: findfont: Font family ['sans-serif'] not found. Falling back to DejaVu Sans\n",
      "  (prop.get_family(), self.defaultFamily[fontext]))\n"
     ]
    },
    {
     "data": {
      "text/plain": [
       "<matplotlib.axes._subplots.AxesSubplot at 0x7f5c3837ffd0>"
      ]
     },
     "execution_count": 36,
     "metadata": {},
     "output_type": "execute_result"
    },
    {
     "data": {
      "image/png": "[encoded data removed]",
      "text/plain": [
       "<matplotlib.figure.Figure at 0x7f5c3837fbe0>"
      ]
     },
     "metadata": {},
     "output_type": "display_data"
    }
   ],
   "source": [
    "corr = df6.corr()\n",
    "# Generate a mask for the upper triangle\n",
    "mask = np.zeros_like(corr, dtype=np.bool)\n",
    "mask[np.triu_indices_from(mask)] = True\n",
    "\n",
    "# Set up the matplotlib figure\n",
    "f, ax = plt.subplots(figsize=(11, 9))\n",
    "\n",
    "# Generate a custom diverging colormap\n",
    "cmap = sns.diverging_palette(220, 10, as_cmap=True)\n",
    "\n",
    "# Draw the heatmap with the mask and correct aspect ratio\n",
    "sns.heatmap(corr, mask=mask, cmap=cmap, vmax=.3, center=0,annot=True,\n",
    "            square=True, linewidths=.5, cbar_kws={\"shrink\": .5})"
   ]
  },
  {
   "cell_type": "code",
   "execution_count": 37,
   "metadata": {
    "collapsed": true
   },
   "outputs": [],
   "source": [
    "sql = \"\"\"\n",
    "select round(avg(SALE_PRICE),2) AVG_SALE_PRICE ,NEIGHBORHOOD from `brooklyn_homes.brooklyna`\n",
    "group by NEIGHBORHOOD order by AVG_SALE_PRICE desc   LIMIT 20\n",
    "\"\"\"\n",
    "df7 = bq.Query(sql).execute().result().to_dataframe()"
   ]
  },
  {
   "cell_type": "code",
   "execution_count": 38,
   "metadata": {
    "collapsed": true
   },
   "outputs": [],
   "source": [
    "#!pip install WordCloud"
   ]
  },
  {
   "cell_type": "code",
   "execution_count": 42,
   "metadata": {
    "collapsed": true
   },
   "outputs": [],
   "source": [
    "#!pip install STOPWORDS"
   ]
  },
  {
   "cell_type": "code",
   "execution_count": 39,
   "metadata": {},
   "outputs": [
    {
     "data": {
      "text/plain": [
       "{'BOERUM HILL': 1850729.51,\n",
       " 'BROOKLYN HEIGHTS': 1661176.09,\n",
       " 'BROOKLYN-UNKNOWN': 1291707.98,\n",
       " 'BUSH TERMINAL': 7760088.23,\n",
       " 'COBBLE HILL': 1775665.17,\n",
       " 'DOWNTOWN-FULTON FERRY': 2202786.25,\n",
       " 'DOWNTOWN-FULTON MALL': 1251379.75,\n",
       " 'DOWNTOWN-METROTECH': 3158885.81,\n",
       " 'GOWANUS': 3451808.57,\n",
       " 'GREENPOINT': 1430584.81,\n",
       " 'JAMAICA BAY': 14150000.0,\n",
       " 'KENSINGTON': 1834431.25,\n",
       " 'NAVY YARD': 2150119.71,\n",
       " 'PARK SLOPE': 1300743.61,\n",
       " 'PROSPECT HEIGHTS': 1931948.17,\n",
       " 'RED HOOK': 7117272.0,\n",
       " 'SPRING CREEK': 45284718.6,\n",
       " 'WILLIAMSBURG-EAST': 1274423.18,\n",
       " 'WILLIAMSBURG-NORTH': 1387250.46,\n",
       " 'WILLIAMSBURG-SOUTH': 1302580.43}"
      ]
     },
     "execution_count": 39,
     "metadata": {},
     "output_type": "execute_result"
    }
   ],
   "source": [
    "from wordcloud import WordCloud, STOPWORDS\n",
    "df7['NEIGHBORHOOD'] = df7['NEIGHBORHOOD'].map(lambda x:x.strip())\n",
    "df8 = df7.set_index('NEIGHBORHOOD').to_dict()\n",
    "df8['AVG_SALE_PRICE']\n"
   ]
  },
  {
   "cell_type": "code",
   "execution_count": 40,
   "metadata": {
    "collapsed": true
   },
   "outputs": [],
   "source": [
    "def random_color_func(word = None,font_size= None,position= None,orientation=None,font_path = None,random_state = None):\n",
    "    h = int(360.0*tone/255.0);\n",
    "    s = int(100.0*255.0/255.0);\n",
    "    l = int(100.0*float(random_state.randint(70,120))/255.0)\n",
    "    return \"hsl({},{}%,{}%)\".format(h,s,l)"
   ]
  },
  {
   "cell_type": "markdown",
   "metadata": {},
   "source": [
    "<h4>Visual #4. Wordcloud of of Brooklyn Neighborhoods by average Sale Price. </h4>\n",
    "Reveals what neighborhoods would typically have the most expensive properties."
   ]
  },
  {
   "cell_type": "code",
   "execution_count": 41,
   "metadata": {},
   "outputs": [
    {
     "data": {
      "text/plain": [
       "(-0.5, 399.5, 199.5, -0.5)"
      ]
     },
     "execution_count": 41,
     "metadata": {},
     "output_type": "execute_result"
    },
    {
     "name": "stderr",
     "output_type": "stream",
     "text": [
      "/usr/local/envs/py3env/lib/python3.5/site-packages/matplotlib/font_manager.py:1320: UserWarning: findfont: Font family ['sans-serif'] not found. Falling back to DejaVu Sans\n",
      "  (prop.get_family(), self.defaultFamily[fontext]))\n"
     ]
    },
    {
     "data": {
      "image/png": "[encoded data removed]",
      "text/plain": [
       "<matplotlib.figure.Figure at 0x7f5c309dee80>"
      ]
     },
     "metadata": {},
     "output_type": "display_data"
    }
   ],
   "source": [
    "wordcloud = WordCloud(background_color = 'Black',\n",
    "                      relative_scaling =0)\n",
    "fig = plt.figure(1,figsize=(18,13))\n",
    "ax1 = fig.add_subplot(2,1,1)\n",
    "wordcloud.generate_from_frequencies(df8['AVG_SALE_PRICE']);\n",
    "ax1.imshow(wordcloud,interpolation='bilinear')\n",
    "ax1.axis('off')"
   ]
  },
  {
   "cell_type": "code",
   "execution_count": 42,
   "metadata": {
    "collapsed": true
   },
   "outputs": [],
   "source": [
    "Dsql = \"\"\"\n",
    "select SALE_PRICE , GROSS_SQUARE_FEET ,TAX_CLASS_AT_TIME_OF_SALE ,NEIGHBORHOOD, YEAR_BUILT, SALE_DATE  from `brooklyn_homes.brooklyna` \n",
    "Where SALE_PRICE <> 0 and SALE_PRICE < 50000000 and SALE_PRICE is not NULL and GROSS_SQUARE_FEET is not NULL and GROSS_SQUARE_FEET <>0 and TAX_CLASS_AT_TIME_OF_SALE is not NULL and  NEIGHBORHOOD is not NULL\"\"\"\n",
    "df = bq.Query(Dsql).execute().result().to_dataframe()"
   ]
  },
  {
   "cell_type": "code",
   "execution_count": 43,
   "metadata": {
    "collapsed": true
   },
   "outputs": [],
   "source": [
    "# df = np.random.rand(100, 5)\n",
    "# training_idx = np.random.randint(df.shape[0], size=80)\n",
    "# test_idx = np.random.randint(df.shape[0], size=20)\n",
    "# training, test = df[training_idx,:], df[test_idx,:]"
   ]
  },
  {
   "cell_type": "code",
   "execution_count": 44,
   "metadata": {
    "collapsed": true
   },
   "outputs": [],
   "source": [
    "# training\n",
    "from sklearn.model_selection import train_test_split\n"
   ]
  },
  {
   "cell_type": "code",
   "execution_count": 45,
   "metadata": {},
   "outputs": [
    {
     "data": {
      "text/html": [
       "<div>\n",
       "<style scoped>\n",
       "    .dataframe tbody tr th:only-of-type {\n",
       "        vertical-align: middle;\n",
       "    }\n",
       "\n",
       "    .dataframe tbody tr th {\n",
       "        vertical-align: top;\n",
       "    }\n",
       "\n",
       "    .dataframe thead th {\n",
       "        text-align: right;\n",
       "    }\n",
       "</style>\n",
       "<table border=\"1\" class=\"dataframe\">\n",
       "  <thead>\n",
       "    <tr style=\"text-align: right;\">\n",
       "      <th></th>\n",
       "      <th>SALE_PRICE</th>\n",
       "      <th>GROSS_SQUARE_FEET</th>\n",
       "      <th>AGE</th>\n",
       "      <th>NEIGHBORHOOD</th>\n",
       "    </tr>\n",
       "  </thead>\n",
       "  <tbody>\n",
       "    <tr>\n",
       "      <th>0</th>\n",
       "      <td>3875000</td>\n",
       "      <td>24710</td>\n",
       "      <td>95</td>\n",
       "      <td>BATH BEACH</td>\n",
       "    </tr>\n",
       "    <tr>\n",
       "      <th>1</th>\n",
       "      <td>3500000</td>\n",
       "      <td>18140</td>\n",
       "      <td>93</td>\n",
       "      <td>BATH BEACH</td>\n",
       "    </tr>\n",
       "    <tr>\n",
       "      <th>2</th>\n",
       "      <td>5825000</td>\n",
       "      <td>35376</td>\n",
       "      <td>98</td>\n",
       "      <td>BAY RIDGE</td>\n",
       "    </tr>\n",
       "    <tr>\n",
       "      <th>3</th>\n",
       "      <td>1350000</td>\n",
       "      <td>6500</td>\n",
       "      <td>103</td>\n",
       "      <td>BEDFORD STUYVESANT</td>\n",
       "    </tr>\n",
       "    <tr>\n",
       "      <th>4</th>\n",
       "      <td>1700000</td>\n",
       "      <td>9600</td>\n",
       "      <td>92</td>\n",
       "      <td>BENSONHURST</td>\n",
       "    </tr>\n",
       "    <tr>\n",
       "      <th>5</th>\n",
       "      <td>4400000</td>\n",
       "      <td>35320</td>\n",
       "      <td>93</td>\n",
       "      <td>BOROUGH PARK</td>\n",
       "    </tr>\n",
       "    <tr>\n",
       "      <th>6</th>\n",
       "      <td>1550000</td>\n",
       "      <td>10320</td>\n",
       "      <td>92</td>\n",
       "      <td>BOROUGH PARK</td>\n",
       "    </tr>\n",
       "    <tr>\n",
       "      <th>7</th>\n",
       "      <td>1550000</td>\n",
       "      <td>10320</td>\n",
       "      <td>92</td>\n",
       "      <td>BOROUGH PARK</td>\n",
       "    </tr>\n",
       "    <tr>\n",
       "      <th>8</th>\n",
       "      <td>6500000</td>\n",
       "      <td>31000</td>\n",
       "      <td>92</td>\n",
       "      <td>BRIGHTON BEACH</td>\n",
       "    </tr>\n",
       "    <tr>\n",
       "      <th>9</th>\n",
       "      <td>3637911</td>\n",
       "      <td>6063</td>\n",
       "      <td>163</td>\n",
       "      <td>BROOKLYN HEIGHTS</td>\n",
       "    </tr>\n",
       "    <tr>\n",
       "      <th>10</th>\n",
       "      <td>7419004</td>\n",
       "      <td>7371</td>\n",
       "      <td>175</td>\n",
       "      <td>BROOKLYN HEIGHTS</td>\n",
       "    </tr>\n",
       "    <tr>\n",
       "      <th>11</th>\n",
       "      <td>6029396</td>\n",
       "      <td>6000</td>\n",
       "      <td>162</td>\n",
       "      <td>BROOKLYN HEIGHTS</td>\n",
       "    </tr>\n",
       "    <tr>\n",
       "      <th>12</th>\n",
       "      <td>11000000</td>\n",
       "      <td>25000</td>\n",
       "      <td>73</td>\n",
       "      <td>CLINTON HILL</td>\n",
       "    </tr>\n",
       "    <tr>\n",
       "      <th>13</th>\n",
       "      <td>9000000</td>\n",
       "      <td>25152</td>\n",
       "      <td>92</td>\n",
       "      <td>CROWN HEIGHTS</td>\n",
       "    </tr>\n",
       "    <tr>\n",
       "      <th>14</th>\n",
       "      <td>3250000</td>\n",
       "      <td>8440</td>\n",
       "      <td>110</td>\n",
       "      <td>CROWN HEIGHTS</td>\n",
       "    </tr>\n",
       "    <tr>\n",
       "      <th>15</th>\n",
       "      <td>4900000</td>\n",
       "      <td>31104</td>\n",
       "      <td>98</td>\n",
       "      <td>CROWN HEIGHTS</td>\n",
       "    </tr>\n",
       "    <tr>\n",
       "      <th>16</th>\n",
       "      <td>9650000</td>\n",
       "      <td>40800</td>\n",
       "      <td>96</td>\n",
       "      <td>CROWN HEIGHTS</td>\n",
       "    </tr>\n",
       "    <tr>\n",
       "      <th>17</th>\n",
       "      <td>568000</td>\n",
       "      <td>3000</td>\n",
       "      <td>106</td>\n",
       "      <td>CROWN HEIGHTS</td>\n",
       "    </tr>\n",
       "    <tr>\n",
       "      <th>18</th>\n",
       "      <td>10</td>\n",
       "      <td>9744</td>\n",
       "      <td>111</td>\n",
       "      <td>CROWN HEIGHTS</td>\n",
       "    </tr>\n",
       "    <tr>\n",
       "      <th>19</th>\n",
       "      <td>4700000</td>\n",
       "      <td>22080</td>\n",
       "      <td>105</td>\n",
       "      <td>CROWN HEIGHTS</td>\n",
       "    </tr>\n",
       "    <tr>\n",
       "      <th>20</th>\n",
       "      <td>2300000</td>\n",
       "      <td>10200</td>\n",
       "      <td>96</td>\n",
       "      <td>CROWN HEIGHTS</td>\n",
       "    </tr>\n",
       "    <tr>\n",
       "      <th>21</th>\n",
       "      <td>1810909</td>\n",
       "      <td>14624</td>\n",
       "      <td>106</td>\n",
       "      <td>CROWN HEIGHTS</td>\n",
       "    </tr>\n",
       "    <tr>\n",
       "      <th>22</th>\n",
       "      <td>1810909</td>\n",
       "      <td>14400</td>\n",
       "      <td>107</td>\n",
       "      <td>CROWN HEIGHTS</td>\n",
       "    </tr>\n",
       "    <tr>\n",
       "      <th>23</th>\n",
       "      <td>1810909</td>\n",
       "      <td>13440</td>\n",
       "      <td>108</td>\n",
       "      <td>CROWN HEIGHTS</td>\n",
       "    </tr>\n",
       "    <tr>\n",
       "      <th>24</th>\n",
       "      <td>2603182</td>\n",
       "      <td>23386</td>\n",
       "      <td>97</td>\n",
       "      <td>CROWN HEIGHTS</td>\n",
       "    </tr>\n",
       "    <tr>\n",
       "      <th>25</th>\n",
       "      <td>2603182</td>\n",
       "      <td>23386</td>\n",
       "      <td>97</td>\n",
       "      <td>CROWN HEIGHTS</td>\n",
       "    </tr>\n",
       "    <tr>\n",
       "      <th>26</th>\n",
       "      <td>1810909</td>\n",
       "      <td>14520</td>\n",
       "      <td>106</td>\n",
       "      <td>CROWN HEIGHTS</td>\n",
       "    </tr>\n",
       "    <tr>\n",
       "      <th>27</th>\n",
       "      <td>6520000</td>\n",
       "      <td>36000</td>\n",
       "      <td>97</td>\n",
       "      <td>CROWN HEIGHTS</td>\n",
       "    </tr>\n",
       "    <tr>\n",
       "      <th>28</th>\n",
       "      <td>18301890</td>\n",
       "      <td>37600</td>\n",
       "      <td>93</td>\n",
       "      <td>CROWN HEIGHTS</td>\n",
       "    </tr>\n",
       "    <tr>\n",
       "      <th>29</th>\n",
       "      <td>13180000</td>\n",
       "      <td>19240</td>\n",
       "      <td>102</td>\n",
       "      <td>CROWN HEIGHTS</td>\n",
       "    </tr>\n",
       "    <tr>\n",
       "      <th>...</th>\n",
       "      <td>...</td>\n",
       "      <td>...</td>\n",
       "      <td>...</td>\n",
       "      <td>...</td>\n",
       "    </tr>\n",
       "    <tr>\n",
       "      <th>135289</th>\n",
       "      <td>297500</td>\n",
       "      <td>2700</td>\n",
       "      <td>120</td>\n",
       "      <td>WILLIAMSBURG-CENTRAL</td>\n",
       "    </tr>\n",
       "    <tr>\n",
       "      <th>135290</th>\n",
       "      <td>150000</td>\n",
       "      <td>3180</td>\n",
       "      <td>120</td>\n",
       "      <td>WILLIAMSBURG-CENTRAL</td>\n",
       "    </tr>\n",
       "    <tr>\n",
       "      <th>135291</th>\n",
       "      <td>475000</td>\n",
       "      <td>2100</td>\n",
       "      <td>120</td>\n",
       "      <td>WILLIAMSBURG-EAST</td>\n",
       "    </tr>\n",
       "    <tr>\n",
       "      <th>135292</th>\n",
       "      <td>540000</td>\n",
       "      <td>2400</td>\n",
       "      <td>120</td>\n",
       "      <td>WILLIAMSBURG-EAST</td>\n",
       "    </tr>\n",
       "    <tr>\n",
       "      <th>135293</th>\n",
       "      <td>225500</td>\n",
       "      <td>2400</td>\n",
       "      <td>120</td>\n",
       "      <td>WILLIAMSBURG-EAST</td>\n",
       "    </tr>\n",
       "    <tr>\n",
       "      <th>135294</th>\n",
       "      <td>375000</td>\n",
       "      <td>4425</td>\n",
       "      <td>120</td>\n",
       "      <td>WILLIAMSBURG-EAST</td>\n",
       "    </tr>\n",
       "    <tr>\n",
       "      <th>135295</th>\n",
       "      <td>192276</td>\n",
       "      <td>3250</td>\n",
       "      <td>120</td>\n",
       "      <td>WILLIAMSBURG-EAST</td>\n",
       "    </tr>\n",
       "    <tr>\n",
       "      <th>135296</th>\n",
       "      <td>187500</td>\n",
       "      <td>1800</td>\n",
       "      <td>120</td>\n",
       "      <td>WILLIAMSBURG-NORTH</td>\n",
       "    </tr>\n",
       "    <tr>\n",
       "      <th>135297</th>\n",
       "      <td>629000</td>\n",
       "      <td>2400</td>\n",
       "      <td>120</td>\n",
       "      <td>WILLIAMSBURG-NORTH</td>\n",
       "    </tr>\n",
       "    <tr>\n",
       "      <th>135298</th>\n",
       "      <td>640000</td>\n",
       "      <td>4000</td>\n",
       "      <td>120</td>\n",
       "      <td>WILLIAMSBURG-NORTH</td>\n",
       "    </tr>\n",
       "    <tr>\n",
       "      <th>135299</th>\n",
       "      <td>715000</td>\n",
       "      <td>2400</td>\n",
       "      <td>120</td>\n",
       "      <td>WILLIAMSBURG-NORTH</td>\n",
       "    </tr>\n",
       "    <tr>\n",
       "      <th>135300</th>\n",
       "      <td>580000</td>\n",
       "      <td>3076</td>\n",
       "      <td>120</td>\n",
       "      <td>WILLIAMSBURG-SOUTH</td>\n",
       "    </tr>\n",
       "    <tr>\n",
       "      <th>135301</th>\n",
       "      <td>350000</td>\n",
       "      <td>2600</td>\n",
       "      <td>120</td>\n",
       "      <td>WILLIAMSBURG-SOUTH</td>\n",
       "    </tr>\n",
       "    <tr>\n",
       "      <th>135302</th>\n",
       "      <td>335000</td>\n",
       "      <td>2400</td>\n",
       "      <td>120</td>\n",
       "      <td>WILLIAMSBURG-SOUTH</td>\n",
       "    </tr>\n",
       "    <tr>\n",
       "      <th>135303</th>\n",
       "      <td>640000</td>\n",
       "      <td>6240</td>\n",
       "      <td>120</td>\n",
       "      <td>CROWN HEIGHTS</td>\n",
       "    </tr>\n",
       "    <tr>\n",
       "      <th>135304</th>\n",
       "      <td>230000</td>\n",
       "      <td>2787</td>\n",
       "      <td>120</td>\n",
       "      <td>OCEAN HILL</td>\n",
       "    </tr>\n",
       "    <tr>\n",
       "      <th>135305</th>\n",
       "      <td>428000</td>\n",
       "      <td>3240</td>\n",
       "      <td>120</td>\n",
       "      <td>BEDFORD STUYVESANT</td>\n",
       "    </tr>\n",
       "    <tr>\n",
       "      <th>135306</th>\n",
       "      <td>875000</td>\n",
       "      <td>3352</td>\n",
       "      <td>120</td>\n",
       "      <td>CLINTON HILL</td>\n",
       "    </tr>\n",
       "    <tr>\n",
       "      <th>135307</th>\n",
       "      <td>320000</td>\n",
       "      <td>3000</td>\n",
       "      <td>120</td>\n",
       "      <td>GOWANUS</td>\n",
       "    </tr>\n",
       "    <tr>\n",
       "      <th>135308</th>\n",
       "      <td>400000</td>\n",
       "      <td>3740</td>\n",
       "      <td>120</td>\n",
       "      <td>GREENPOINT</td>\n",
       "    </tr>\n",
       "    <tr>\n",
       "      <th>135309</th>\n",
       "      <td>660000</td>\n",
       "      <td>3000</td>\n",
       "      <td>120</td>\n",
       "      <td>PARK SLOPE SOUTH</td>\n",
       "    </tr>\n",
       "    <tr>\n",
       "      <th>135310</th>\n",
       "      <td>254007</td>\n",
       "      <td>2768</td>\n",
       "      <td>120</td>\n",
       "      <td>BEDFORD STUYVESANT</td>\n",
       "    </tr>\n",
       "    <tr>\n",
       "      <th>135311</th>\n",
       "      <td>525000</td>\n",
       "      <td>2800</td>\n",
       "      <td>120</td>\n",
       "      <td>BEDFORD STUYVESANT</td>\n",
       "    </tr>\n",
       "    <tr>\n",
       "      <th>135312</th>\n",
       "      <td>225000</td>\n",
       "      <td>2560</td>\n",
       "      <td>120</td>\n",
       "      <td>BEDFORD STUYVESANT</td>\n",
       "    </tr>\n",
       "    <tr>\n",
       "      <th>135313</th>\n",
       "      <td>695000</td>\n",
       "      <td>3600</td>\n",
       "      <td>120</td>\n",
       "      <td>BOERUM HILL</td>\n",
       "    </tr>\n",
       "    <tr>\n",
       "      <th>135314</th>\n",
       "      <td>329000</td>\n",
       "      <td>8867</td>\n",
       "      <td>120</td>\n",
       "      <td>GOWANUS</td>\n",
       "    </tr>\n",
       "    <tr>\n",
       "      <th>135315</th>\n",
       "      <td>450000</td>\n",
       "      <td>3200</td>\n",
       "      <td>120</td>\n",
       "      <td>CROWN HEIGHTS</td>\n",
       "    </tr>\n",
       "    <tr>\n",
       "      <th>135316</th>\n",
       "      <td>610000</td>\n",
       "      <td>3600</td>\n",
       "      <td>120</td>\n",
       "      <td>SUNSET PARK</td>\n",
       "    </tr>\n",
       "    <tr>\n",
       "      <th>135317</th>\n",
       "      <td>125000</td>\n",
       "      <td>2550</td>\n",
       "      <td>120</td>\n",
       "      <td>CROWN HEIGHTS</td>\n",
       "    </tr>\n",
       "    <tr>\n",
       "      <th>135318</th>\n",
       "      <td>80000</td>\n",
       "      <td>3500</td>\n",
       "      <td>120</td>\n",
       "      <td>CROWN HEIGHTS</td>\n",
       "    </tr>\n",
       "  </tbody>\n",
       "</table>\n",
       "<p>135319 rows × 4 columns</p>\n",
       "</div>"
      ],
      "text/plain": [
       "        SALE_PRICE  GROSS_SQUARE_FEET  AGE               NEIGHBORHOOD\n",
       "0          3875000              24710   95  BATH BEACH               \n",
       "1          3500000              18140   93  BATH BEACH               \n",
       "2          5825000              35376   98  BAY RIDGE                \n",
       "3          1350000               6500  103  BEDFORD STUYVESANT       \n",
       "4          1700000               9600   92  BENSONHURST              \n",
       "5          4400000              35320   93  BOROUGH PARK             \n",
       "6          1550000              10320   92  BOROUGH PARK             \n",
       "7          1550000              10320   92  BOROUGH PARK             \n",
       "8          6500000              31000   92  BRIGHTON BEACH           \n",
       "9          3637911               6063  163  BROOKLYN HEIGHTS         \n",
       "10         7419004               7371  175  BROOKLYN HEIGHTS         \n",
       "11         6029396               6000  162  BROOKLYN HEIGHTS         \n",
       "12        11000000              25000   73  CLINTON HILL             \n",
       "13         9000000              25152   92  CROWN HEIGHTS            \n",
       "14         3250000               8440  110  CROWN HEIGHTS            \n",
       "15         4900000              31104   98  CROWN HEIGHTS            \n",
       "16         9650000              40800   96  CROWN HEIGHTS            \n",
       "17          568000               3000  106  CROWN HEIGHTS            \n",
       "18              10               9744  111  CROWN HEIGHTS            \n",
       "19         4700000              22080  105  CROWN HEIGHTS            \n",
       "20         2300000              10200   96  CROWN HEIGHTS            \n",
       "21         1810909              14624  106  CROWN HEIGHTS            \n",
       "22         1810909              14400  107  CROWN HEIGHTS            \n",
       "23         1810909              13440  108  CROWN HEIGHTS            \n",
       "24         2603182              23386   97  CROWN HEIGHTS            \n",
       "25         2603182              23386   97  CROWN HEIGHTS            \n",
       "26         1810909              14520  106  CROWN HEIGHTS            \n",
       "27         6520000              36000   97  CROWN HEIGHTS            \n",
       "28        18301890              37600   93  CROWN HEIGHTS            \n",
       "29        13180000              19240  102  CROWN HEIGHTS            \n",
       "...            ...                ...  ...                        ...\n",
       "135289      297500               2700  120  WILLIAMSBURG-CENTRAL     \n",
       "135290      150000               3180  120  WILLIAMSBURG-CENTRAL     \n",
       "135291      475000               2100  120  WILLIAMSBURG-EAST        \n",
       "135292      540000               2400  120  WILLIAMSBURG-EAST        \n",
       "135293      225500               2400  120  WILLIAMSBURG-EAST        \n",
       "135294      375000               4425  120  WILLIAMSBURG-EAST        \n",
       "135295      192276               3250  120  WILLIAMSBURG-EAST        \n",
       "135296      187500               1800  120  WILLIAMSBURG-NORTH       \n",
       "135297      629000               2400  120  WILLIAMSBURG-NORTH       \n",
       "135298      640000               4000  120  WILLIAMSBURG-NORTH       \n",
       "135299      715000               2400  120  WILLIAMSBURG-NORTH       \n",
       "135300      580000               3076  120  WILLIAMSBURG-SOUTH       \n",
       "135301      350000               2600  120  WILLIAMSBURG-SOUTH       \n",
       "135302      335000               2400  120  WILLIAMSBURG-SOUTH       \n",
       "135303      640000               6240  120  CROWN HEIGHTS            \n",
       "135304      230000               2787  120  OCEAN HILL               \n",
       "135305      428000               3240  120  BEDFORD STUYVESANT       \n",
       "135306      875000               3352  120  CLINTON HILL             \n",
       "135307      320000               3000  120  GOWANUS                  \n",
       "135308      400000               3740  120  GREENPOINT               \n",
       "135309      660000               3000  120  PARK SLOPE SOUTH         \n",
       "135310      254007               2768  120  BEDFORD STUYVESANT       \n",
       "135311      525000               2800  120  BEDFORD STUYVESANT       \n",
       "135312      225000               2560  120  BEDFORD STUYVESANT       \n",
       "135313      695000               3600  120  BOERUM HILL              \n",
       "135314      329000               8867  120  GOWANUS                  \n",
       "135315      450000               3200  120  CROWN HEIGHTS            \n",
       "135316      610000               3600  120  SUNSET PARK              \n",
       "135317      125000               2550  120  CROWN HEIGHTS            \n",
       "135318       80000               3500  120  CROWN HEIGHTS            \n",
       "\n",
       "[135319 rows x 4 columns]"
      ]
     },
     "execution_count": 45,
     "metadata": {},
     "output_type": "execute_result"
    }
   ],
   "source": [
    "sql = \"\"\"\n",
    "select SALE_PRICE , GROSS_SQUARE_FEET ,2019-YEAR_BUILT as AGE ,NEIGHBORHOOD  from `brooklyn_homes.brooklyna` where GROSS_SQUARE_FEET is not NULL\n",
    "and GROSS_SQUARE_FEET <> 0 and SALE_PRICE <> 0 and YEAR_BUILT<>0 and SALE_PRICE <> 1\n",
    "\"\"\"\n",
    "df11 = bq.Query(sql).execute().result().to_dataframe()\n",
    "df11"
   ]
  },
  {
   "cell_type": "code",
   "execution_count": 46,
   "metadata": {},
   "outputs": [
    {
     "data": {
      "text/plain": [
       "122"
      ]
     },
     "execution_count": 46,
     "metadata": {},
     "output_type": "execute_result"
    }
   ],
   "source": [
    "len(df.NEIGHBORHOOD.unique())"
   ]
  },
  {
   "cell_type": "code",
   "execution_count": 47,
   "metadata": {
    "collapsed": true
   },
   "outputs": [],
   "source": [
    "from pandas import DataFrame\n",
    "data = DataFrame(df11)\n",
    "data.to_csv(\"Data.csv\", index = None , header = True)"
   ]
  },
  {
   "cell_type": "code",
   "execution_count": 48,
   "metadata": {},
   "outputs": [
    {
     "data": {
      "text/plain": [
       "(135319, 1)"
      ]
     },
     "execution_count": 48,
     "metadata": {},
     "output_type": "execute_result"
    }
   ],
   "source": [
    "x = df11.iloc[:,3:]\n",
    "x.shape"
   ]
  },
  {
   "cell_type": "code",
   "execution_count": 50,
   "metadata": {},
   "outputs": [
    {
     "name": "stdout",
     "output_type": "stream",
     "text": [
      "(135319, 1)\n"
     ]
    },
    {
     "name": "stderr",
     "output_type": "stream",
     "text": [
      "/usr/local/envs/py3env/lib/python3.5/site-packages/sklearn/preprocessing/label.py:111: DataConversionWarning: A column-vector y was passed when a 1d array was expected. Please change the shape of y to (n_samples, ), for example using ravel().\n",
      "  y = column_or_1d(y, warn=True)\n"
     ]
    }
   ],
   "source": [
    "# Encoding categorical data\n",
    "from sklearn.preprocessing import LabelEncoder, OneHotEncoder\n",
    "labelencoder = LabelEncoder()\n",
    "x = labelencoder.fit_transform(x)\n",
    "x = x.reshape(-1,1)\n",
    "print(x.shape)\n",
    "onehotencoder = OneHotEncoder(sparse=False)\n",
    "x1 = onehotencoder.fit_transform(x)"
   ]
  },
  {
   "cell_type": "code",
   "execution_count": 51,
   "metadata": {},
   "outputs": [
    {
     "data": {
      "text/plain": [
       "(135319, 122)"
      ]
     },
     "execution_count": 51,
     "metadata": {},
     "output_type": "execute_result"
    }
   ],
   "source": [
    "x1.shape"
   ]
  },
  {
   "cell_type": "code",
   "execution_count": 74,
   "metadata": {},
   "outputs": [
    {
     "data": {
      "text/html": [
       "<div>\n",
       "<style scoped>\n",
       "    .dataframe tbody tr th:only-of-type {\n",
       "        vertical-align: middle;\n",
       "    }\n",
       "\n",
       "    .dataframe tbody tr th {\n",
       "        vertical-align: top;\n",
       "    }\n",
       "\n",
       "    .dataframe thead th {\n",
       "        text-align: right;\n",
       "    }\n",
       "</style>\n",
       "<table border=\"1\" class=\"dataframe\">\n",
       "  <thead>\n",
       "    <tr style=\"text-align: right;\">\n",
       "      <th></th>\n",
       "      <th>SALE_PRICE</th>\n",
       "      <th>GROSS_SQUARE_FEET</th>\n",
       "      <th>AGE</th>\n",
       "      <th>NEIGHBORHOOD</th>\n",
       "    </tr>\n",
       "  </thead>\n",
       "  <tbody>\n",
       "    <tr>\n",
       "      <th>0</th>\n",
       "      <td>3875000</td>\n",
       "      <td>24710</td>\n",
       "      <td>95</td>\n",
       "      <td>BATH BEACH</td>\n",
       "    </tr>\n",
       "    <tr>\n",
       "      <th>1</th>\n",
       "      <td>3500000</td>\n",
       "      <td>18140</td>\n",
       "      <td>93</td>\n",
       "      <td>BATH BEACH</td>\n",
       "    </tr>\n",
       "    <tr>\n",
       "      <th>2</th>\n",
       "      <td>5825000</td>\n",
       "      <td>35376</td>\n",
       "      <td>98</td>\n",
       "      <td>BAY RIDGE</td>\n",
       "    </tr>\n",
       "    <tr>\n",
       "      <th>3</th>\n",
       "      <td>1350000</td>\n",
       "      <td>6500</td>\n",
       "      <td>103</td>\n",
       "      <td>BEDFORD STUYVESANT</td>\n",
       "    </tr>\n",
       "    <tr>\n",
       "      <th>4</th>\n",
       "      <td>1700000</td>\n",
       "      <td>9600</td>\n",
       "      <td>92</td>\n",
       "      <td>BENSONHURST</td>\n",
       "    </tr>\n",
       "  </tbody>\n",
       "</table>\n",
       "</div>"
      ],
      "text/plain": [
       "   SALE_PRICE  GROSS_SQUARE_FEET  AGE               NEIGHBORHOOD\n",
       "0     3875000              24710   95  BATH BEACH               \n",
       "1     3500000              18140   93  BATH BEACH               \n",
       "2     5825000              35376   98  BAY RIDGE                \n",
       "3     1350000               6500  103  BEDFORD STUYVESANT       \n",
       "4     1700000               9600   92  BENSONHURST              "
      ]
     },
     "execution_count": 74,
     "metadata": {},
     "output_type": "execute_result"
    }
   ],
   "source": [
    "df11.head()"
   ]
  },
  {
   "cell_type": "code",
   "execution_count": 54,
   "metadata": {},
   "outputs": [
    {
     "data": {
      "text/plain": [
       "(135319, 3)"
      ]
     },
     "execution_count": 54,
     "metadata": {},
     "output_type": "execute_result"
    }
   ],
   "source": [
    "x2 = df11.iloc[:,:3]\n",
    "x2.head()\n",
    "x2 = x2.values\n",
    "x2.shape\n"
   ]
  },
  {
   "cell_type": "code",
   "execution_count": 55,
   "metadata": {},
   "outputs": [
    {
     "data": {
      "text/plain": [
       "array([[3875000,   24710,      95],\n",
       "       [3500000,   18140,      93],\n",
       "       [5825000,   35376,      98],\n",
       "       ...,\n",
       "       [ 610000,    3600,     120],\n",
       "       [ 125000,    2550,     120],\n",
       "       [  80000,    3500,     120]])"
      ]
     },
     "execution_count": 55,
     "metadata": {},
     "output_type": "execute_result"
    }
   ],
   "source": [
    "x2"
   ]
  },
  {
   "cell_type": "code",
   "execution_count": 56,
   "metadata": {},
   "outputs": [
    {
     "data": {
      "text/plain": [
       "(135319, 125)"
      ]
     },
     "execution_count": 56,
     "metadata": {},
     "output_type": "execute_result"
    }
   ],
   "source": [
    "xfinal = np.hstack((x2,x1))\n",
    "xfinal.shape\n",
    "          "
   ]
  },
  {
   "cell_type": "code",
   "execution_count": 57,
   "metadata": {},
   "outputs": [
    {
     "data": {
      "text/plain": [
       "array([[3.8750e+06, 2.4710e+04, 9.5000e+01, ..., 0.0000e+00, 0.0000e+00,\n",
       "        0.0000e+00],\n",
       "       [3.5000e+06, 1.8140e+04, 9.3000e+01, ..., 0.0000e+00, 0.0000e+00,\n",
       "        0.0000e+00],\n",
       "       [5.8250e+06, 3.5376e+04, 9.8000e+01, ..., 0.0000e+00, 0.0000e+00,\n",
       "        0.0000e+00],\n",
       "       ...,\n",
       "       [6.1000e+05, 3.6000e+03, 1.2000e+02, ..., 0.0000e+00, 0.0000e+00,\n",
       "        0.0000e+00],\n",
       "       [1.2500e+05, 2.5500e+03, 1.2000e+02, ..., 0.0000e+00, 0.0000e+00,\n",
       "        0.0000e+00],\n",
       "       [8.0000e+04, 3.5000e+03, 1.2000e+02, ..., 0.0000e+00, 0.0000e+00,\n",
       "        0.0000e+00]])"
      ]
     },
     "execution_count": 57,
     "metadata": {},
     "output_type": "execute_result"
    }
   ],
   "source": [
    "xfinal"
   ]
  },
  {
   "cell_type": "code",
   "execution_count": 58,
   "metadata": {},
   "outputs": [
    {
     "data": {
      "text/plain": [
       "(135319, 124)"
      ]
     },
     "execution_count": 58,
     "metadata": {},
     "output_type": "execute_result"
    }
   ],
   "source": [
    "X = df11.iloc[:,1:3]\n",
    "X = X.values\n",
    "X = np.hstack((X,x1))\n",
    "X.shape"
   ]
  },
  {
   "cell_type": "code",
   "execution_count": 59,
   "metadata": {},
   "outputs": [
    {
     "data": {
      "text/plain": [
       "array([[24710.,    95.,     0., ...,     0.,     0.,     0.],\n",
       "       [18140.,    93.,     0., ...,     0.,     0.,     0.],\n",
       "       [35376.,    98.,     0., ...,     0.,     0.,     0.],\n",
       "       ...,\n",
       "       [ 3600.,   120.,     0., ...,     0.,     0.,     0.],\n",
       "       [ 2550.,   120.,     0., ...,     0.,     0.,     0.],\n",
       "       [ 3500.,   120.,     0., ...,     0.,     0.,     0.]])"
      ]
     },
     "execution_count": 59,
     "metadata": {},
     "output_type": "execute_result"
    }
   ],
   "source": [
    "X"
   ]
  },
  {
   "cell_type": "code",
   "execution_count": 60,
   "metadata": {},
   "outputs": [
    {
     "data": {
      "text/plain": [
       "(135319,)"
      ]
     },
     "execution_count": 60,
     "metadata": {},
     "output_type": "execute_result"
    }
   ],
   "source": [
    "T = df11.iloc[:,0].values\n",
    "T.shape"
   ]
  },
  {
   "cell_type": "code",
   "execution_count": 61,
   "metadata": {},
   "outputs": [
    {
     "data": {
      "text/plain": [
       "(135319, 1)"
      ]
     },
     "execution_count": 61,
     "metadata": {},
     "output_type": "execute_result"
    }
   ],
   "source": [
    "T= T.reshape(-1,1)\n",
    "T.shape"
   ]
  },
  {
   "cell_type": "code",
   "execution_count": 62,
   "metadata": {
    "collapsed": true
   },
   "outputs": [],
   "source": [
    "from sklearn.model_selection import train_test_split\n",
    "X_train, X_test, T_train, T_test = train_test_split(X, T, test_size=0.25, random_state=0)"
   ]
  },
  {
   "cell_type": "code",
   "execution_count": 63,
   "metadata": {},
   "outputs": [
    {
     "data": {
      "text/plain": [
       "((101489, 124), (101489, 1), (33830, 124), (33830, 1))"
      ]
     },
     "execution_count": 63,
     "metadata": {},
     "output_type": "execute_result"
    }
   ],
   "source": [
    "X_train.shape, T_train.shape, X_test.shape, T_test.shape"
   ]
  },
  {
   "cell_type": "code",
   "execution_count": 65,
   "metadata": {
    "collapsed": true
   },
   "outputs": [],
   "source": [
    "from sklearn.linear_model import LinearRegression\n",
    "regressor = LinearRegression()\n",
    "regressor.fit(X_train, T_train)\n",
    "\n",
    "# Predicting the Test set results\n",
    "y_pred = regressor.predict(X_test)"
   ]
  },
  {
   "cell_type": "code",
   "execution_count": 66,
   "metadata": {
    "collapsed": true
   },
   "outputs": [],
   "source": [
    "y_pred = regressor.predict(X_test)"
   ]
  },
  {
   "cell_type": "code",
   "execution_count": 67,
   "metadata": {},
   "outputs": [
    {
     "data": {
      "text/plain": [
       "array([[3255858.54831121],\n",
       "       [ 373602.17823533],\n",
       "       [ 609493.12719415],\n",
       "       ...,\n",
       "       [ 288904.85334955],\n",
       "       [ 541518.72363248],\n",
       "       [ 782974.10654359]])"
      ]
     },
     "execution_count": 67,
     "metadata": {},
     "output_type": "execute_result"
    }
   ],
   "source": [
    "y_pred"
   ]
  },
  {
   "cell_type": "code",
   "execution_count": 68,
   "metadata": {},
   "outputs": [
    {
     "data": {
      "text/plain": [
       "array([[2050000],\n",
       "       [ 401000],\n",
       "       [ 400976],\n",
       "       ...,\n",
       "       [ 274000],\n",
       "       [ 500000],\n",
       "       [ 630000]])"
      ]
     },
     "execution_count": 68,
     "metadata": {},
     "output_type": "execute_result"
    }
   ],
   "source": [
    "T_test"
   ]
  },
  {
   "cell_type": "code",
   "execution_count": 83,
   "metadata": {
    "collapsed": true
   },
   "outputs": [],
   "source": [
    "from sklearn.metrics import mean_squared_error\n",
    "rmse = math.sqrt(mean_squared_error(T_test, y_pred))"
   ]
  },
  {
   "cell_type": "code",
   "execution_count": 84,
   "metadata": {},
   "outputs": [
    {
     "data": {
      "text/plain": [
       "4649021.014214335"
      ]
     },
     "execution_count": 84,
     "metadata": {},
     "output_type": "execute_result"
    }
   ],
   "source": [
    "rmse\n"
   ]
  },
  {
   "cell_type": "code",
   "execution_count": 71,
   "metadata": {
    "collapsed": true
   },
   "outputs": [],
   "source": [
    "def normalize(X):\n",
    "    mean = X.mean()  #this will compute mean of every column of the dataset\n",
    "    std = X.std()    #computes the standard deviation \n",
    "    return (X - mean) / std"
   ]
  },
  {
   "cell_type": "code",
   "execution_count": 73,
   "metadata": {
    "collapsed": true
   },
   "outputs": [],
   "source": [
    "X_train_n = normalize(X_train)\n",
    "X_test_n = normalize(X_test)\n"
   ]
  },
  {
   "cell_type": "code",
   "execution_count": 76,
   "metadata": {
    "collapsed": true
   },
   "outputs": [],
   "source": [
    "reg_n = LinearRegression()\n",
    "reg_n.fit(X_train_n,T_train)\n",
    "y_pred_n = reg_n.predict(X_test_n)\n",
    "#rmse(T_test,y_pred_n)"
   ]
  },
  {
   "cell_type": "code",
   "execution_count": 85,
   "metadata": {},
   "outputs": [
    {
     "data": {
      "text/plain": [
       "23830563.878378868"
      ]
     },
     "execution_count": 85,
     "metadata": {},
     "output_type": "execute_result"
    }
   ],
   "source": [
    "import math\n",
    "rmse_n = math.sqrt(mean_squared_error(T_test,y_pred_n))\n",
    "rmse_n"
   ]
  },
  {
   "cell_type": "code",
   "execution_count": 89,
   "metadata": {
    "collapsed": true
   },
   "outputs": [],
   "source": [
    "def rmse(T, Y):\n",
    "    return np.sqrt(np.mean((T-Y)**2))"
   ]
  },
  {
   "cell_type": "code",
   "execution_count": 90,
   "metadata": {},
   "outputs": [
    {
     "data": {
      "text/plain": [
       "23830563.878378868"
      ]
     },
     "execution_count": 90,
     "metadata": {},
     "output_type": "execute_result"
    }
   ],
   "source": [
    "rmse_n = rmse(T_test,y_pred_n)\n",
    "rmse_n"
   ]
  },
  {
   "cell_type": "code",
   "execution_count": 87,
   "metadata": {
    "collapsed": true
   },
   "outputs": [],
   "source": [
    "import numpy as np \n",
    "from abc import ABC, abstractmethod\n",
    "\n",
    "# Super class for machine learning models \n",
    "\n",
    "class BaseModel(ABC):\n",
    "    \"\"\" Super class for ITCS Machine Learning Class\"\"\"\n",
    "    \n",
    "    @abstractmethod\n",
    "    def train(self, X, T):\n",
    "        pass\n",
    "\n",
    "    @abstractmethod\n",
    "    def use(self, X):\n",
    "        pass\n",
    "\n",
    "    \n",
    "class LinearModel(BaseModel):\n",
    "    \"\"\"\n",
    "        Abstract class for a linear model \n",
    "        \n",
    "        Attributes\n",
    "        ==========\n",
    "        w       ndarray\n",
    "                weight vector/matrix\n",
    "    \"\"\"\n",
    "\n",
    "    def __init__(self):\n",
    "        \"\"\"\n",
    "            weight vector w is initialized as None\n",
    "        \"\"\"\n",
    "        self.w = None\n",
    "\n",
    "    # check if the matrix is 2-dimensional. if not, raise an exception    \n",
    "    def _check_matrix(self, mat, name):\n",
    "        if len(mat.shape) != 2:\n",
    "            raise ValueError(''.join([\"Wrong matrix \", name]))\n",
    "        \n",
    "    # add a basis\n",
    "    def add_ones(self, X):\n",
    "        \"\"\"\n",
    "            add a column basis to X input matrix\n",
    "        \"\"\"\n",
    "        self._check_matrix(X, 'X')\n",
    "        return np.hstack((np.ones((X.shape[0], 1)), X))\n",
    "\n",
    "    ####################################################\n",
    "    #### abstract funcitons ############################\n",
    "    @abstractmethod\n",
    "    def train(self, X, T):\n",
    "        \"\"\"\n",
    "            train linear model\n",
    "            \n",
    "            parameters\n",
    "            -----------\n",
    "            X     2d array\n",
    "                  input data\n",
    "            T     2d array\n",
    "                  target labels\n",
    "        \"\"\"        \n",
    "        pass\n",
    "    \n",
    "    @abstractmethod\n",
    "    def use(self, X):\n",
    "        \"\"\"\n",
    "            apply the learned model to input X\n",
    "            \n",
    "            parameters\n",
    "            ----------\n",
    "            X     2d array\n",
    "                  input data\n",
    "            \n",
    "        \"\"\"        \n",
    "        pass "
   ]
  },
  {
   "cell_type": "code",
   "execution_count": 96,
   "metadata": {
    "collapsed": true
   },
   "outputs": [],
   "source": [
    "import collections # for checking iterable instance\n",
    "import copy\n",
    "\n",
    "# LMS class \n",
    "class LMS(LinearModel):\n",
    "    \"\"\"\n",
    "        Lease Mean Squares. online learning algorithm\n",
    "    \n",
    "        attributes\n",
    "        ==========\n",
    "        w        nd.array\n",
    "                 weight matrix\n",
    "        alpha    float\n",
    "                 learning rate\n",
    "    \"\"\"\n",
    "    def __init__(self, alpha):\n",
    "        LinearModel.__init__(self)\n",
    "        self.alpha = alpha\n",
    "        self.w = None\n",
    "    \n",
    "    # batch training by using train_step function\n",
    "    def train(self, X, T):\n",
    "        X1 = super().add_ones(X)\n",
    "        self.w = np.zeros((1,X1.shape[1]))\n",
    "        max_iterations = 10\n",
    "        for i in range(max_iterations):\n",
    "            for k in range(X1.shape[0]):\n",
    "                self.train_step(X1[k],T[k])\n",
    "                \n",
    "            \n",
    "    # train LMS model one step \n",
    "    # here the x is 1d vector\n",
    "    def train_step(self, x, t):\n",
    "        t = t.reshape((t.shape[0],1))\n",
    "        if self.w is None:\n",
    "            x = np.reshape(x,(1,x.shape[0]))\n",
    "            x = super().add_ones(x)\n",
    "            self.w = np.zeros((1,x.shape[1]))\n",
    "        else:\n",
    "            x = np.reshape(x,(1,x.shape[0]))\n",
    "        y = x @ self.w.T\n",
    "        self.w -= self.alpha * (y - t) *  x\n",
    "    \n",
    "    # apply the current model to data X\n",
    "    def use(self, X):\n",
    "        X1 = super().add_ones(X)\n",
    "        y = X1 @ self.w.T\n",
    "        return y"
   ]
  },
  {
   "cell_type": "code",
   "execution_count": 97,
   "metadata": {},
   "outputs": [
    {
     "name": "stderr",
     "output_type": "stream",
     "text": [
      "/usr/local/envs/py3env/lib/python3.5/site-packages/ipykernel/__main__.py:42: RuntimeWarning: overflow encountered in multiply\n",
      "/usr/local/envs/py3env/lib/python3.5/site-packages/ipykernel/__main__.py:42: RuntimeWarning: invalid value encountered in multiply\n"
     ]
    },
    {
     "data": {
      "text/plain": [
       "array([[nan],\n",
       "       [nan],\n",
       "       [nan],\n",
       "       ...,\n",
       "       [nan],\n",
       "       [nan],\n",
       "       [nan]])"
      ]
     },
     "execution_count": 97,
     "metadata": {},
     "output_type": "execute_result"
    }
   ],
   "source": [
    "#creating object for LMS class\n",
    "lms_regressor = LMS(10)    #here 0.2 is alpha, the learning rate, randomly choosen as 0.2\n",
    "\n",
    "#Train with X_train and T_train\n",
    "lms_regressor.train(X_train,T_train)\n",
    "\n",
    "#Use this model to predict sales for X_test\n",
    "y_pred_lms = lms_regressor.use(X_test)\n",
    "y_pred_lms"
   ]
  },
  {
   "cell_type": "code",
   "execution_count": null,
   "metadata": {
    "collapsed": true
   },
   "outputs": [],
   "source": [
    "###Now trying an additional model: using the random forest ensemble method as a regressor model###"
   ]
  },
  {
   "cell_type": "code",
   "execution_count": 3,
   "metadata": {},
   "outputs": [],
   "source": [
    "DF11 = pd.read_csv(\"DF11.csv\",header=0, sep = ',')"
   ]
  },
  {
   "cell_type": "code",
   "execution_count": 4,
   "metadata": {
    "collapsed": true
   },
   "outputs": [],
   "source": [
    "RFData = DF11[['SALE_PRICE', 'GROSS_SQUARE_FEET', 'AGE']]"
   ]
  },
  {
   "cell_type": "code",
   "execution_count": 5,
   "metadata": {
    "collapsed": true
   },
   "outputs": [],
   "source": [
    "x = RFData.drop('SALE_PRICE', axis='columns')\n",
    "y = RFData['SALE_PRICE']"
   ]
  },
  {
   "cell_type": "code",
   "execution_count": 6,
   "metadata": {
    "collapsed": true
   },
   "outputs": [],
   "source": [
    "from sklearn.model_selection import train_test_split\n",
    "\n",
    "x_train, x_test, y_train, y_test = train_test_split(x,y,test_size = 0.3)"
   ]
  },
  {
   "cell_type": "code",
   "execution_count": 7,
   "metadata": {
    "collapsed": true
   },
   "outputs": [],
   "source": [
    "from sklearn.ensemble import RandomForestRegressor"
   ]
  },
  {
   "cell_type": "code",
   "execution_count": 8,
   "metadata": {},
   "outputs": [
    {
     "name": "stderr",
     "output_type": "stream",
     "text": [
      "C:\\ProgramData\\Anaconda3\\lib\\site-packages\\sklearn\\ensemble\\forest.py:724: UserWarning: Some inputs do not have OOB scores. This probably means too few trees were used to compute any reliable oob estimates.\n",
      "  warn(\"Some inputs do not have OOB scores. \"\n"
     ]
    },
    {
     "data": {
      "text/plain": [
       "RandomForestRegressor(bootstrap=True, criterion='mse', max_depth=None,\n",
       "           max_features='auto', max_leaf_nodes=None,\n",
       "           min_impurity_decrease=0.0, min_impurity_split=None,\n",
       "           min_samples_leaf=1, min_samples_split=2,\n",
       "           min_weight_fraction_leaf=0.0, n_estimators=10, n_jobs=1,\n",
       "           oob_score=True, random_state=8675309, verbose=0,\n",
       "           warm_start=False)"
      ]
     },
     "execution_count": 8,
     "metadata": {},
     "output_type": "execute_result"
    }
   ],
   "source": [
    "model = RandomForestRegressor(n_estimators=10, random_state=8675309, oob_score=True)\n",
    "model.fit(x_train,y_train)"
   ]
  },
  {
   "cell_type": "code",
   "execution_count": 9,
   "metadata": {},
   "outputs": [
    {
     "data": {
      "text/plain": [
       "0.06393243089735634"
      ]
     },
     "execution_count": 9,
     "metadata": {},
     "output_type": "execute_result"
    }
   ],
   "source": [
    "model.score(x_test,y_test)\n",
    "#This is the R-squared, a measure of how much variance in the dependent variable was explained by the independent variables"
   ]
  },
  {
   "cell_type": "code",
   "execution_count": 10,
   "metadata": {
    "collapsed": true
   },
   "outputs": [],
   "source": [
    "feature_importances = pd.DataFrame(model.feature_importances_,\n",
    "                                   index = x_train.columns,\n",
    "                                    columns=['importance']).sort_values('importance', ascending=False)"
   ]
  },
  {
   "cell_type": "code",
   "execution_count": null,
   "metadata": {
    "collapsed": true
   },
   "outputs": [],
   "source": [
    "##This shows the ranking of the exaplanatory variables by the amount of variation in the dependent variable that they explain"
   ]
  },
  {
   "cell_type": "code",
   "execution_count": 11,
   "metadata": {},
   "outputs": [
    {
     "data": {
      "text/html": [
       "<div>\n",
       "<style>\n",
       "    .dataframe thead tr:only-child th {\n",
       "        text-align: right;\n",
       "    }\n",
       "\n",
       "    .dataframe thead th {\n",
       "        text-align: left;\n",
       "    }\n",
       "\n",
       "    .dataframe tbody tr th {\n",
       "        vertical-align: top;\n",
       "    }\n",
       "</style>\n",
       "<table border=\"1\" class=\"dataframe\">\n",
       "  <thead>\n",
       "    <tr style=\"text-align: right;\">\n",
       "      <th></th>\n",
       "      <th>importance</th>\n",
       "    </tr>\n",
       "  </thead>\n",
       "  <tbody>\n",
       "    <tr>\n",
       "      <th>GROSS_SQUARE_FEET</th>\n",
       "      <td>0.734533</td>\n",
       "    </tr>\n",
       "    <tr>\n",
       "      <th>AGE</th>\n",
       "      <td>0.265467</td>\n",
       "    </tr>\n",
       "  </tbody>\n",
       "</table>\n",
       "</div>"
      ],
      "text/plain": [
       "                   importance\n",
       "GROSS_SQUARE_FEET    0.734533\n",
       "AGE                  0.265467"
      ]
     },
     "execution_count": 11,
     "metadata": {},
     "output_type": "execute_result"
    }
   ],
   "source": [
    "feature_importances"
   ]
  }
 ],
 "metadata": {
  "kernelspec": {
   "display_name": "Python 3",
   "language": "python",
   "name": "python3"
  },
  "language_info": {
   "codemirror_mode": {
    "name": "ipython",
    "version": 3
   },
   "file_extension": ".py",
   "mimetype": "text/x-python",
   "name": "python",
   "nbconvert_exporter": "python",
   "pygments_lexer": "ipython3",
   "version": "3.6.3"
  }
 },
 "nbformat": 4,
 "nbformat_minor": 2
}
