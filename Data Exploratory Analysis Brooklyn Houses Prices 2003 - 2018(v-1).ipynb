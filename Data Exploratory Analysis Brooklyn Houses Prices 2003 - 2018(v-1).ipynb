{
 "cells": [
  {
   "cell_type": "code",
   "execution_count": 160,
   "metadata": {},
   "outputs": [
    {
     "name": "stdout",
     "output_type": "stream",
     "text": [
      "absl-py==0.6.1\n",
      "alembic==0.8.10\n",
      "apache-airflow==1.9.0\n",
      "asn1crypto==0.24.0\n",
      "astor==0.7.1\n",
      "avro==1.8.2\n",
      "backports-abc==0.5\n",
      "backports.functools-lru-cache==1.5\n",
      "backports.shutil-get-terminal-size==1.0.0\n",
      "backports.ssl-match-hostname==3.5.0.1\n",
      "backports.weakref==1.0.post1\n",
      "beautifulsoup4==4.7.1\n",
      "bleach==2.1.2\n",
      "blinker==1.4\n",
      "bokeh==1.0.3\n",
      "brewer2mpl==1.4.1\n",
      "bs4==0.0.1\n",
      "cachetools==2.1.0\n",
      "certifi==2018.11.29\n",
      "cffi==1.11.5\n",
      "chardet==3.0.4\n",
      "Click==7.0\n",
      "cloudpickle==0.6.1\n",
      "configparser==3.5.0\n",
      "crcmod==1.7\n",
      "croniter==0.3.26\n",
      "cryptography==2.3.1\n",
      "cycler==0.10.0\n",
      "cytoolz==0.9.0.1\n",
      "dask==0.17.1\n",
      "datalab==1.1.3\n",
      "decorator==4.3.0\n",
      "dill==0.2.6\n",
      "distributed==1.21.8\n",
      "docutils==0.14\n",
      "entrypoints==0.2.3\n",
      "enum34==1.1.6\n",
      "fastcache==1.0.2\n",
      "Flask==0.11.1\n",
      "Flask-Admin==1.4.1\n",
      "Flask-Cache==0.13.1\n",
      "Flask-Login==0.2.11\n",
      "flask-swagger==0.2.13\n",
      "Flask-WTF==0.14\n",
      "funcsigs==1.0.0\n",
      "functools32==3.2.3.post2\n",
      "future==0.16.0\n",
      "futures==3.2.0\n",
      "gast==0.2.2\n",
      "ggplot==0.6.8\n",
      "gitdb2==2.0.5\n",
      "GitPython==2.1.11\n",
      "google-api-core==0.1.4\n",
      "google-api-python-client==1.6.2\n",
      "google-apitools==0.5.10\n",
      "google-auth==1.6.2\n",
      "google-auth-httplib2==0.0.3\n",
      "google-auth-oauthlib==0.1.0\n",
      "google-cloud==0.34.0\n",
      "google-cloud-bigquery==0.23.0\n",
      "google-cloud-core==0.28.1\n",
      "google-cloud-dataflow==2.0.0\n",
      "google-cloud-monitoring==0.28.0\n",
      "google-resumable-media==0.3.2\n",
      "googleapis-common-protos==1.5.5\n",
      "googledatastore==7.0.1\n",
      "grpcio==1.17.1\n",
      "gunicorn==19.9.0\n",
      "h5py==2.7.1\n",
      "heapdict==1.0.0\n",
      "html5lib==1.0.1\n",
      "httplib2==0.12.0\n",
      "idna==2.6\n",
      "imageio==2.4.1\n",
      "ipaddress==1.0.22\n",
      "ipykernel==4.8.2\n",
      "ipython==5.8.0\n",
      "ipython-genutils==0.2.0\n",
      "ipywidgets==7.2.1\n",
      "itsdangerous==1.1.0\n",
      "Jinja2==2.8\n",
      "jsonschema==2.6.0\n",
      "jupyter-client==5.2.4\n",
      "jupyter-core==4.4.0\n",
      "lime==0.1.1.23\n",
      "locket==0.2.0\n",
      "lockfile==0.12.2\n",
      "lxml==3.8.0\n",
      "Mako==1.0.7\n",
      "Markdown==2.6.11\n",
      "MarkupSafe==1.1.0\n",
      "matplotlib==2.1.2\n",
      "mistune==0.8.4\n",
      "mltoolbox-datalab-classification-and-regression==1.0.1\n",
      "mltoolbox-datalab-image-classification==0.2\n",
      "mock==2.0.0\n",
      "msgpack==0.5.6\n",
      "nbconvert==5.3.1\n",
      "nbformat==4.4.0\n",
      "networkx==2.2\n",
      "nltk==3.2.1\n",
      "notebook==5.7.4\n",
      "numpy==1.14.0\n",
      "oauth2client==2.2.0\n",
      "oauthlib==2.1.0\n",
      "olefile==0.46\n",
      "ordereddict==1.1\n",
      "packaging==18.0\n",
      "pandas==0.22.0\n",
      "pandas-gbq==0.3.0\n",
      "pandas-profiling==1.4.1\n",
      "pandocfilters==1.4.2\n",
      "partd==0.3.9\n",
      "pathlib2==2.3.3\n",
      "patsy==0.5.1\n",
      "pbr==5.1.1\n",
      "pexpect==4.6.0\n",
      "pickleshare==0.7.5\n",
      "Pillow==3.4.1\n",
      "plotly==1.12.5\n",
      "prometheus-client==0.5.0\n",
      "prompt-toolkit==1.0.15\n",
      "proto-google-cloud-datastore-v1==0.90.0\n",
      "protobuf==3.6.1\n",
      "psutil==4.3.0\n",
      "ptyprocess==0.6.0\n",
      "pyasn1==0.4.4\n",
      "pyasn1-modules==0.2.2\n",
      "pycparser==2.19\n",
      "Pygments==2.1.3\n",
      "PyJWT==1.7.1\n",
      "pyOpenSSL==18.0.0\n",
      "pyparsing==2.3.0\n",
      "PySocks==1.6.8\n",
      "python-daemon==2.1.2\n",
      "python-dateutil==2.5.0\n",
      "python-editor==1.0.3\n",
      "python-nvd3==0.14.2\n",
      "python-slugify==1.1.4\n",
      "python-snappy==0.5.1\n",
      "pytz==2018.4\n",
      "PyWavelets==1.0.1\n",
      "PyYAML==3.13\n",
      "pyzmq==17.1.0\n",
      "requests==2.18.4\n",
      "requests-oauthlib==0.8.0\n",
      "rsa==3.4.2\n",
      "scandir==1.9.0\n",
      "scikit-image==0.13.0\n",
      "scikit-learn==0.19.1\n",
      "scipy==1.0.0\n",
      "seaborn==0.7.0\n",
      "Send2Trash==1.5.0\n",
      "setproctitle==1.1.10\n",
      "simplegeneric==0.8.1\n",
      "simplejson==3.16.0\n",
      "singledispatch==3.4.0.3\n",
      "six==1.10.0\n",
      "smmap2==2.0.5\n",
      "sortedcontainers==2.1.0\n",
      "soupsieve==1.7.1\n",
      "SQLAlchemy==1.2.16\n",
      "statsmodels==0.8.0\n",
      "subprocess32==3.5.3\n",
      "sympy==0.7.6.1\n",
      "tabulate==0.7.7\n",
      "tblib==1.3.2\n",
      "tensorboard==1.8.0\n",
      "tensorflow==1.8.0\n",
      "termcolor==1.1.0\n",
      "terminado==0.8.1\n",
      "testpath==0.4.2\n",
      "thrift==0.11.0\n",
      "toolz==0.9.0\n",
      "tornado==4.5.1\n",
      "traitlets==4.3.2\n",
      "Unidecode==1.0.23\n",
      "uritemplate==3.0.0\n",
      "urllib3==1.22\n",
      "wcwidth==0.1.7\n",
      "webencodings==0.5.1\n",
      "Werkzeug==0.14.1\n",
      "widgetsnbextension==3.2.1\n",
      "WTForms==2.2.1\n",
      "xgboost==0.6a2\n",
      "zict==0.1.3\n",
      "zope.deprecation==4.4.0\n"
     ]
    }
   ],
   "source": [
    "!pip freeze"
   ]
  },
  {
   "cell_type": "code",
   "execution_count": 1,
   "metadata": {
    "collapsed": true
   },
   "outputs": [],
   "source": [
    "import matplotlib.pyplot as plt\n",
    "import seaborn as sns\n",
    "import pandas as pd\n",
    "import numpy as np"
   ]
  },
  {
   "cell_type": "code",
   "execution_count": 2,
   "metadata": {},
   "outputs": [
    {
     "name": "stdout",
     "output_type": "stream",
     "text": [
      "Requirement already satisfied: google-cloud in c:\\program files (x86)\\python36-32\\lib\\site-packages (0.34.0)\n"
     ]
    }
   ],
   "source": [
    "!pip install google-cloud"
   ]
  },
  {
   "cell_type": "code",
   "execution_count": 3,
   "metadata": {},
   "outputs": [
    {
     "ename": "SyntaxError",
     "evalue": "invalid syntax (<ipython-input-3-c0556f563f5f>, line 2)",
     "output_type": "error",
     "traceback": [
      "\u001b[1;36m  File \u001b[1;32m\"<ipython-input-3-c0556f563f5f>\"\u001b[1;36m, line \u001b[1;32m2\u001b[0m\n\u001b[1;33m    apt-get update\u001b[0m\n\u001b[1;37m                 ^\u001b[0m\n\u001b[1;31mSyntaxError\u001b[0m\u001b[1;31m:\u001b[0m invalid syntax\n"
     ]
    }
   ],
   "source": [
    "%bash\n",
    "apt-get update\n",
    "apt-get -y install python-mpltoolkits.basemap"
   ]
  },
  {
   "cell_type": "code",
   "execution_count": 4,
   "metadata": {},
   "outputs": [
    {
     "name": "stderr",
     "output_type": "stream",
     "text": [
      "ERROR:root:Line magic function `%bigquery` not found.\n"
     ]
    }
   ],
   "source": [
    "%bigquery schema --table brooklyn_homes.2013_housing_sales"
   ]
  },
  {
   "cell_type": "code",
   "execution_count": 165,
   "metadata": {},
   "outputs": [
    {
     "data": {
      "text/html": [
       "\n",
       "    <div class=\"bqsv\" id=\"9_155466682379\"></div>\n",
       "\n",
       "    <script src=\"/static/components/requirejs/require.js\"></script>\n",
       "    <script>\n",
       "      require.config({\n",
       "        paths: {\n",
       "          base: '/static/base',\n",
       "        },\n",
       "        map: {\n",
       "          '*': {\n",
       "            datalab: 'nbextensions/gcpdatalab'\n",
       "          }\n",
       "        },\n",
       "      });\n",
       "\n",
       "      require(['datalab/bigquery', 'datalab/element!9_155466682379',\n",
       "          'datalab/style!/nbextensions/gcpdatalab/bigquery.css'],\n",
       "        function(bq, dom) {\n",
       "          bq.renderSchema(dom, [{\"type\": \"INTEGER\", \"name\": \"BOROUGH_\", \"mode\": \"NULLABLE\"}, {\"type\": \"STRING\", \"name\": \"NEIGHBORHOOD_\", \"mode\": \"NULLABLE\"}, {\"type\": \"STRING\", \"name\": \"BUILDING_CLASS_CATEGORY_\", \"mode\": \"NULLABLE\"}, {\"type\": \"STRING\", \"name\": \"TAX_CLASS_AS_OF_FINAL_ROLL_17_18\", \"mode\": \"NULLABLE\"}, {\"type\": \"INTEGER\", \"name\": \"BLOCK_\", \"mode\": \"NULLABLE\"}, {\"type\": \"INTEGER\", \"name\": \"LOT_\", \"mode\": \"NULLABLE\"}, {\"type\": \"STRING\", \"name\": \"EASE_MENT_\", \"mode\": \"NULLABLE\"}, {\"type\": \"STRING\", \"name\": \"BUILDING_CLASS_AS_OF_FINAL_ROLL_17_18\", \"mode\": \"NULLABLE\"}, {\"type\": \"STRING\", \"name\": \"ADDRESS_\", \"mode\": \"NULLABLE\"}, {\"type\": \"STRING\", \"name\": \"APARTMENT_NUMBER_\", \"mode\": \"NULLABLE\"}, {\"type\": \"INTEGER\", \"name\": \"ZIP_CODE_\", \"mode\": \"NULLABLE\"}, {\"type\": \"INTEGER\", \"name\": \"RESIDENTIAL_UNITS_\", \"mode\": \"NULLABLE\"}, {\"type\": \"INTEGER\", \"name\": \"COMMERCIAL_UNITS_\", \"mode\": \"NULLABLE\"}, {\"type\": \"INTEGER\", \"name\": \"TOTAL_UNITS_\", \"mode\": \"NULLABLE\"}, {\"type\": \"STRING\", \"name\": \"LAND_SQUARE_FEET_\", \"mode\": \"NULLABLE\"}, {\"type\": \"STRING\", \"name\": \"GROSS_SQUARE_FEET_\", \"mode\": \"NULLABLE\"}, {\"type\": \"INTEGER\", \"name\": \"YEAR_BUILT_\", \"mode\": \"NULLABLE\"}, {\"type\": \"INTEGER\", \"name\": \"TAX_CLASS_AT_TIME_OF_SALE_\", \"mode\": \"NULLABLE\"}, {\"type\": \"STRING\", \"name\": \"BUILDING_CLASS_AT_TIME_OF_SALE_\", \"mode\": \"NULLABLE\"}, {\"type\": \"INTEGER\", \"name\": \"SALE_PRICE_\", \"mode\": \"NULLABLE\"}, {\"type\": \"DATE\", \"name\": \"SALE_DATE_\", \"mode\": \"NULLABLE\"}]);\n",
       "        }\n",
       "      );\n",
       "    </script>\n",
       "    "
      ],
      "text/plain": [
       "<IPython.core.display.HTML object>"
      ]
     },
     "execution_count": 165,
     "metadata": {},
     "output_type": "execute_result"
    }
   ],
   "source": [
    "%bigquery schema --table brooklyn_homes.2017_housing_sales"
   ]
  },
  {
   "cell_type": "code",
   "execution_count": 166,
   "metadata": {},
   "outputs": [
    {
     "data": {
      "text/html": [
       "\n",
       "    <div class=\"bqsv\" id=\"10_155466682381\"></div>\n",
       "\n",
       "    <script src=\"/static/components/requirejs/require.js\"></script>\n",
       "    <script>\n",
       "      require.config({\n",
       "        paths: {\n",
       "          base: '/static/base',\n",
       "        },\n",
       "        map: {\n",
       "          '*': {\n",
       "            datalab: 'nbextensions/gcpdatalab'\n",
       "          }\n",
       "        },\n",
       "      });\n",
       "\n",
       "      require(['datalab/bigquery', 'datalab/element!10_155466682381',\n",
       "          'datalab/style!/nbextensions/gcpdatalab/bigquery.css'],\n",
       "        function(bq, dom) {\n",
       "          bq.renderSchema(dom, [{\"type\": \"INTEGER\", \"name\": \"BOROUGH_\", \"mode\": \"NULLABLE\"}, {\"type\": \"STRING\", \"name\": \"NEIGHBORHOOD_\", \"mode\": \"NULLABLE\"}, {\"type\": \"STRING\", \"name\": \"BUILDING_CLASS_CATEGORY_\", \"mode\": \"NULLABLE\"}, {\"type\": \"STRING\", \"name\": \"TAX_CLASS_AT_PRESENT_\", \"mode\": \"NULLABLE\"}, {\"type\": \"INTEGER\", \"name\": \"BLOCK_\", \"mode\": \"NULLABLE\"}, {\"type\": \"INTEGER\", \"name\": \"LOT_\", \"mode\": \"NULLABLE\"}, {\"type\": \"STRING\", \"name\": \"EASE_MENT_\", \"mode\": \"NULLABLE\"}, {\"type\": \"STRING\", \"name\": \"BUILDING_CLASS_AT_PRESENT_\", \"mode\": \"NULLABLE\"}, {\"type\": \"STRING\", \"name\": \"ADDRESS_\", \"mode\": \"NULLABLE\"}, {\"type\": \"STRING\", \"name\": \"APARTMENT_NUMBER_\", \"mode\": \"NULLABLE\"}, {\"type\": \"INTEGER\", \"name\": \"ZIP_CODE_\", \"mode\": \"NULLABLE\"}, {\"type\": \"STRING\", \"name\": \"RESIDENTIAL_UNITS_\", \"mode\": \"NULLABLE\"}, {\"type\": \"STRING\", \"name\": \"COMMERCIAL_UNITS_\", \"mode\": \"NULLABLE\"}, {\"type\": \"STRING\", \"name\": \"TOTAL_UNITS_\", \"mode\": \"NULLABLE\"}, {\"type\": \"STRING\", \"name\": \"LAND_SQUARE_FEET_\", \"mode\": \"NULLABLE\"}, {\"type\": \"STRING\", \"name\": \"GROSS_SQUARE_FEET_\", \"mode\": \"NULLABLE\"}, {\"type\": \"INTEGER\", \"name\": \"YEAR_BUILT_\", \"mode\": \"NULLABLE\"}, {\"type\": \"INTEGER\", \"name\": \"TAX_CLASS_AT_TIME_OF_SALE_\", \"mode\": \"NULLABLE\"}, {\"type\": \"STRING\", \"name\": \"BUILDING_CLASS_AT_TIME_OF_SALE_\", \"mode\": \"NULLABLE\"}, {\"type\": \"STRING\", \"name\": \"SALE_PRICE_\", \"mode\": \"NULLABLE\"}, {\"type\": \"DATE\", \"name\": \"SALE_DATE_\", \"mode\": \"NULLABLE\"}]);\n",
       "        }\n",
       "      );\n",
       "    </script>\n",
       "    "
      ],
      "text/plain": [
       "<IPython.core.display.HTML object>"
      ]
     },
     "execution_count": 166,
     "metadata": {},
     "output_type": "execute_result"
    }
   ],
   "source": [
    "%bigquery schema --table brooklyn_homes.2016_housing_sales"
   ]
  },
  {
   "cell_type": "code",
   "execution_count": 167,
   "metadata": {},
   "outputs": [
    {
     "data": {
      "text/html": [
       "\n",
       "    <div class=\"bqsv\" id=\"11_155466682383\"></div>\n",
       "\n",
       "    <script src=\"/static/components/requirejs/require.js\"></script>\n",
       "    <script>\n",
       "      require.config({\n",
       "        paths: {\n",
       "          base: '/static/base',\n",
       "        },\n",
       "        map: {\n",
       "          '*': {\n",
       "            datalab: 'nbextensions/gcpdatalab'\n",
       "          }\n",
       "        },\n",
       "      });\n",
       "\n",
       "      require(['datalab/bigquery', 'datalab/element!11_155466682383',\n",
       "          'datalab/style!/nbextensions/gcpdatalab/bigquery.css'],\n",
       "        function(bq, dom) {\n",
       "          bq.renderSchema(dom, [{\"type\": \"INTEGER\", \"name\": \"BOROUGH\", \"mode\": \"NULLABLE\"}, {\"type\": \"STRING\", \"name\": \"NEIGHBORHOOD\", \"mode\": \"NULLABLE\"}, {\"type\": \"STRING\", \"name\": \"BUILDING_CLASS_CATEGORY\", \"mode\": \"NULLABLE\"}, {\"type\": \"STRING\", \"name\": \"TAX_CLASS_AT_PRESENT\", \"mode\": \"NULLABLE\"}, {\"type\": \"INTEGER\", \"name\": \"BLOCK\", \"mode\": \"NULLABLE\"}, {\"type\": \"INTEGER\", \"name\": \"LOT\", \"mode\": \"NULLABLE\"}, {\"type\": \"STRING\", \"name\": \"EASE_MENT\", \"mode\": \"NULLABLE\"}, {\"type\": \"STRING\", \"name\": \"BUILDING_CLASS_AT_PRESENT\", \"mode\": \"NULLABLE\"}, {\"type\": \"STRING\", \"name\": \"ADDRESS\", \"mode\": \"NULLABLE\"}, {\"type\": \"STRING\", \"name\": \"APARTMENT_NUMBER\", \"mode\": \"NULLABLE\"}, {\"type\": \"INTEGER\", \"name\": \"ZIP_CODE\", \"mode\": \"NULLABLE\"}, {\"type\": \"INTEGER\", \"name\": \"RESIDENTIAL_UNITS\", \"mode\": \"NULLABLE\"}, {\"type\": \"INTEGER\", \"name\": \"COMMERCIAL_UNITS\", \"mode\": \"NULLABLE\"}, {\"type\": \"INTEGER\", \"name\": \"TOTAL_UNITS\", \"mode\": \"NULLABLE\"}, {\"type\": \"INTEGER\", \"name\": \"LAND_SQUARE_FEET\", \"mode\": \"NULLABLE\"}, {\"type\": \"INTEGER\", \"name\": \"GROSS_SQUARE_FEET\", \"mode\": \"NULLABLE\"}, {\"type\": \"INTEGER\", \"name\": \"YEAR_BUILT\", \"mode\": \"NULLABLE\"}, {\"type\": \"INTEGER\", \"name\": \"TAX_CLASS_AT_TIME_OF_SALE\", \"mode\": \"NULLABLE\"}, {\"type\": \"STRING\", \"name\": \"BUILDING_CLASS_AT_TIME_OF_SALE\", \"mode\": \"NULLABLE\"}, {\"type\": \"INTEGER\", \"name\": \"SALE_PRICE\", \"mode\": \"NULLABLE\"}, {\"type\": \"DATE\", \"name\": \"SALE_DATE\", \"mode\": \"NULLABLE\"}]);\n",
       "        }\n",
       "      );\n",
       "    </script>\n",
       "    "
      ],
      "text/plain": [
       "<IPython.core.display.HTML object>"
      ]
     },
     "execution_count": 167,
     "metadata": {},
     "output_type": "execute_result"
    }
   ],
   "source": [
    "%bigquery schema --view refined-window-228202:brooklyn_homes.brooklyna"
   ]
  },
  {
   "cell_type": "code",
   "execution_count": 168,
   "metadata": {
    "collapsed": true
   },
   "outputs": [],
   "source": [
    "import google.datalab.bigquery as bq\n",
    "sql = \"\"\"\n",
    "select SALE_PRICE , GROSS_SQUARE_FEET ,TAX_CLASS_AT_TIME_OF_SALE ,NEIGHBORHOOD  from `brooklyn_homes.brooklyna` \n",
    "\"\"\"\n",
    "df = bq.Query(sql).execute().result().to_dataframe()\n"
   ]
  },
  {
   "cell_type": "markdown",
   "metadata": {},
   "source": [
    "Beginning exploration - Viewing the first few observations of the dataframe and distributions of the data"
   ]
  },
  {
   "cell_type": "code",
   "execution_count": 169,
   "metadata": {},
   "outputs": [
    {
     "data": {
      "text/html": [
       "<div>\n",
       "<style scoped>\n",
       "    .dataframe tbody tr th:only-of-type {\n",
       "        vertical-align: middle;\n",
       "    }\n",
       "\n",
       "    .dataframe tbody tr th {\n",
       "        vertical-align: top;\n",
       "    }\n",
       "\n",
       "    .dataframe thead th {\n",
       "        text-align: right;\n",
       "    }\n",
       "</style>\n",
       "<table border=\"1\" class=\"dataframe\">\n",
       "  <thead>\n",
       "    <tr style=\"text-align: right;\">\n",
       "      <th></th>\n",
       "      <th>SALE_PRICE</th>\n",
       "      <th>GROSS_SQUARE_FEET</th>\n",
       "      <th>TAX_CLASS_AT_TIME_OF_SALE</th>\n",
       "      <th>NEIGHBORHOOD</th>\n",
       "    </tr>\n",
       "  </thead>\n",
       "  <tbody>\n",
       "    <tr>\n",
       "      <th>0</th>\n",
       "      <td>982611.0</td>\n",
       "      <td>NaN</td>\n",
       "      <td>2.0</td>\n",
       "      <td>BEDFORD STUYVESANT</td>\n",
       "    </tr>\n",
       "    <tr>\n",
       "      <th>1</th>\n",
       "      <td>813581.0</td>\n",
       "      <td>NaN</td>\n",
       "      <td>2.0</td>\n",
       "      <td>BEDFORD STUYVESANT</td>\n",
       "    </tr>\n",
       "    <tr>\n",
       "      <th>2</th>\n",
       "      <td>784090.0</td>\n",
       "      <td>NaN</td>\n",
       "      <td>2.0</td>\n",
       "      <td>BEDFORD STUYVESANT</td>\n",
       "    </tr>\n",
       "    <tr>\n",
       "      <th>3</th>\n",
       "      <td>766935.0</td>\n",
       "      <td>NaN</td>\n",
       "      <td>2.0</td>\n",
       "      <td>BEDFORD STUYVESANT</td>\n",
       "    </tr>\n",
       "    <tr>\n",
       "      <th>4</th>\n",
       "      <td>1634291.0</td>\n",
       "      <td>NaN</td>\n",
       "      <td>2.0</td>\n",
       "      <td>BEDFORD STUYVESANT</td>\n",
       "    </tr>\n",
       "  </tbody>\n",
       "</table>\n",
       "</div>"
      ],
      "text/plain": [
       "   SALE_PRICE  GROSS_SQUARE_FEET  TAX_CLASS_AT_TIME_OF_SALE  \\\n",
       "0    982611.0                NaN                        2.0   \n",
       "1    813581.0                NaN                        2.0   \n",
       "2    784090.0                NaN                        2.0   \n",
       "3    766935.0                NaN                        2.0   \n",
       "4   1634291.0                NaN                        2.0   \n",
       "\n",
       "         NEIGHBORHOOD  \n",
       "0  BEDFORD STUYVESANT  \n",
       "1  BEDFORD STUYVESANT  \n",
       "2  BEDFORD STUYVESANT  \n",
       "3  BEDFORD STUYVESANT  \n",
       "4  BEDFORD STUYVESANT  "
      ]
     },
     "execution_count": 169,
     "metadata": {},
     "output_type": "execute_result"
    }
   ],
   "source": [
    "df.head()"
   ]
  },
  {
   "cell_type": "code",
   "execution_count": 170,
   "metadata": {},
   "outputs": [
    {
     "data": {
      "text/html": [
       "<div>\n",
       "<style scoped>\n",
       "    .dataframe tbody tr th:only-of-type {\n",
       "        vertical-align: middle;\n",
       "    }\n",
       "\n",
       "    .dataframe tbody tr th {\n",
       "        vertical-align: top;\n",
       "    }\n",
       "\n",
       "    .dataframe thead th {\n",
       "        text-align: right;\n",
       "    }\n",
       "</style>\n",
       "<table border=\"1\" class=\"dataframe\">\n",
       "  <thead>\n",
       "    <tr style=\"text-align: right;\">\n",
       "      <th></th>\n",
       "      <th>SALE_PRICE</th>\n",
       "      <th>GROSS_SQUARE_FEET</th>\n",
       "      <th>TAX_CLASS_AT_TIME_OF_SALE</th>\n",
       "    </tr>\n",
       "  </thead>\n",
       "  <tbody>\n",
       "    <tr>\n",
       "      <th>count</th>\n",
       "      <td>3.453720e+05</td>\n",
       "      <td>3.453620e+05</td>\n",
       "      <td>345372.000000</td>\n",
       "    </tr>\n",
       "    <tr>\n",
       "      <th>mean</th>\n",
       "      <td>4.803584e+05</td>\n",
       "      <td>3.101535e+03</td>\n",
       "      <td>1.647178</td>\n",
       "    </tr>\n",
       "    <tr>\n",
       "      <th>std</th>\n",
       "      <td>2.644632e+06</td>\n",
       "      <td>1.566985e+04</td>\n",
       "      <td>0.915807</td>\n",
       "    </tr>\n",
       "    <tr>\n",
       "      <th>min</th>\n",
       "      <td>0.000000e+00</td>\n",
       "      <td>0.000000e+00</td>\n",
       "      <td>1.000000</td>\n",
       "    </tr>\n",
       "    <tr>\n",
       "      <th>25%</th>\n",
       "      <td>0.000000e+00</td>\n",
       "      <td>0.000000e+00</td>\n",
       "      <td>1.000000</td>\n",
       "    </tr>\n",
       "    <tr>\n",
       "      <th>50%</th>\n",
       "      <td>2.600000e+05</td>\n",
       "      <td>1.848000e+03</td>\n",
       "      <td>1.000000</td>\n",
       "    </tr>\n",
       "    <tr>\n",
       "      <th>75%</th>\n",
       "      <td>5.700000e+05</td>\n",
       "      <td>3.000000e+03</td>\n",
       "      <td>2.000000</td>\n",
       "    </tr>\n",
       "    <tr>\n",
       "      <th>max</th>\n",
       "      <td>8.696129e+08</td>\n",
       "      <td>2.548000e+06</td>\n",
       "      <td>4.000000</td>\n",
       "    </tr>\n",
       "  </tbody>\n",
       "</table>\n",
       "</div>"
      ],
      "text/plain": [
       "         SALE_PRICE  GROSS_SQUARE_FEET  TAX_CLASS_AT_TIME_OF_SALE\n",
       "count  3.453720e+05       3.453620e+05              345372.000000\n",
       "mean   4.803584e+05       3.101535e+03                   1.647178\n",
       "std    2.644632e+06       1.566985e+04                   0.915807\n",
       "min    0.000000e+00       0.000000e+00                   1.000000\n",
       "25%    0.000000e+00       0.000000e+00                   1.000000\n",
       "50%    2.600000e+05       1.848000e+03                   1.000000\n",
       "75%    5.700000e+05       3.000000e+03                   2.000000\n",
       "max    8.696129e+08       2.548000e+06                   4.000000"
      ]
     },
     "execution_count": 170,
     "metadata": {},
     "output_type": "execute_result"
    }
   ],
   "source": [
    "df.describe()"
   ]
  },
  {
   "cell_type": "markdown",
   "metadata": {},
   "source": [
    "Exploring the tables that did not successfully join into the combined view - tables for years 2013,2016,2017"
   ]
  },
  {
   "cell_type": "code",
   "execution_count": 171,
   "metadata": {
    "collapsed": true
   },
   "outputs": [],
   "source": [
    "sql = ''' \n",
    "SELECT _SALE_PRICE__ ,GROSS_SQUARE_FEET_ ,TAX_CLASS_AT_TIME_OF_SALE_ , NEIGHBORHOOD_  \n",
    "FROM `brooklyn_homes.2013_housing_sales` \n",
    "'''\n",
    "df1 = bq.Query(sql).execute().result().to_dataframe()"
   ]
  },
  {
   "cell_type": "code",
   "execution_count": 172,
   "metadata": {},
   "outputs": [
    {
     "data": {
      "text/html": [
       "<div>\n",
       "<style scoped>\n",
       "    .dataframe tbody tr th:only-of-type {\n",
       "        vertical-align: middle;\n",
       "    }\n",
       "\n",
       "    .dataframe tbody tr th {\n",
       "        vertical-align: top;\n",
       "    }\n",
       "\n",
       "    .dataframe thead th {\n",
       "        text-align: right;\n",
       "    }\n",
       "</style>\n",
       "<table border=\"1\" class=\"dataframe\">\n",
       "  <thead>\n",
       "    <tr style=\"text-align: right;\">\n",
       "      <th></th>\n",
       "      <th>GROSS_SQUARE_FEET_</th>\n",
       "      <th>TAX_CLASS_AT_TIME_OF_SALE_</th>\n",
       "    </tr>\n",
       "  </thead>\n",
       "  <tbody>\n",
       "    <tr>\n",
       "      <th>count</th>\n",
       "      <td>2.484200e+04</td>\n",
       "      <td>24842.000000</td>\n",
       "    </tr>\n",
       "    <tr>\n",
       "      <th>mean</th>\n",
       "      <td>3.088459e+03</td>\n",
       "      <td>1.681869</td>\n",
       "    </tr>\n",
       "    <tr>\n",
       "      <th>std</th>\n",
       "      <td>1.841045e+04</td>\n",
       "      <td>0.911237</td>\n",
       "    </tr>\n",
       "    <tr>\n",
       "      <th>min</th>\n",
       "      <td>0.000000e+00</td>\n",
       "      <td>1.000000</td>\n",
       "    </tr>\n",
       "    <tr>\n",
       "      <th>25%</th>\n",
       "      <td>0.000000e+00</td>\n",
       "      <td>1.000000</td>\n",
       "    </tr>\n",
       "    <tr>\n",
       "      <th>50%</th>\n",
       "      <td>1.790000e+03</td>\n",
       "      <td>1.000000</td>\n",
       "    </tr>\n",
       "    <tr>\n",
       "      <th>75%</th>\n",
       "      <td>3.000000e+03</td>\n",
       "      <td>2.000000</td>\n",
       "    </tr>\n",
       "    <tr>\n",
       "      <th>max</th>\n",
       "      <td>1.324592e+06</td>\n",
       "      <td>4.000000</td>\n",
       "    </tr>\n",
       "  </tbody>\n",
       "</table>\n",
       "</div>"
      ],
      "text/plain": [
       "       GROSS_SQUARE_FEET_  TAX_CLASS_AT_TIME_OF_SALE_\n",
       "count        2.484200e+04                24842.000000\n",
       "mean         3.088459e+03                    1.681869\n",
       "std          1.841045e+04                    0.911237\n",
       "min          0.000000e+00                    1.000000\n",
       "25%          0.000000e+00                    1.000000\n",
       "50%          1.790000e+03                    1.000000\n",
       "75%          3.000000e+03                    2.000000\n",
       "max          1.324592e+06                    4.000000"
      ]
     },
     "execution_count": 172,
     "metadata": {},
     "output_type": "execute_result"
    }
   ],
   "source": [
    "df1.describe()"
   ]
  },
  {
   "cell_type": "code",
   "execution_count": 173,
   "metadata": {},
   "outputs": [
    {
     "data": {
      "text/html": [
       "<div>\n",
       "<style scoped>\n",
       "    .dataframe tbody tr th:only-of-type {\n",
       "        vertical-align: middle;\n",
       "    }\n",
       "\n",
       "    .dataframe tbody tr th {\n",
       "        vertical-align: top;\n",
       "    }\n",
       "\n",
       "    .dataframe thead th {\n",
       "        text-align: right;\n",
       "    }\n",
       "</style>\n",
       "<table border=\"1\" class=\"dataframe\">\n",
       "  <thead>\n",
       "    <tr style=\"text-align: right;\">\n",
       "      <th></th>\n",
       "      <th>_SALE_PRICE__</th>\n",
       "      <th>GROSS_SQUARE_FEET_</th>\n",
       "      <th>TAX_CLASS_AT_TIME_OF_SALE_</th>\n",
       "      <th>NEIGHBORHOOD_</th>\n",
       "    </tr>\n",
       "  </thead>\n",
       "  <tbody>\n",
       "    <tr>\n",
       "      <th>0</th>\n",
       "      <td>$-</td>\n",
       "      <td>28400.0</td>\n",
       "      <td>2.0</td>\n",
       "      <td>BATH BEACH</td>\n",
       "    </tr>\n",
       "    <tr>\n",
       "      <th>1</th>\n",
       "      <td>$4,050,000.00</td>\n",
       "      <td>27000.0</td>\n",
       "      <td>2.0</td>\n",
       "      <td>BATH BEACH</td>\n",
       "    </tr>\n",
       "    <tr>\n",
       "      <th>2</th>\n",
       "      <td>$-</td>\n",
       "      <td>8760.0</td>\n",
       "      <td>2.0</td>\n",
       "      <td>BATH BEACH</td>\n",
       "    </tr>\n",
       "    <tr>\n",
       "      <th>3</th>\n",
       "      <td>$-</td>\n",
       "      <td>42720.0</td>\n",
       "      <td>2.0</td>\n",
       "      <td>BATH BEACH</td>\n",
       "    </tr>\n",
       "    <tr>\n",
       "      <th>4</th>\n",
       "      <td>$2,000,000.00</td>\n",
       "      <td>17800.0</td>\n",
       "      <td>2.0</td>\n",
       "      <td>BAY RIDGE</td>\n",
       "    </tr>\n",
       "  </tbody>\n",
       "</table>\n",
       "</div>"
      ],
      "text/plain": [
       "     _SALE_PRICE__  GROSS_SQUARE_FEET_  TAX_CLASS_AT_TIME_OF_SALE_  \\\n",
       "0            $-                28400.0                         2.0   \n",
       "1   $4,050,000.00              27000.0                         2.0   \n",
       "2            $-                 8760.0                         2.0   \n",
       "3            $-                42720.0                         2.0   \n",
       "4   $2,000,000.00              17800.0                         2.0   \n",
       "\n",
       "               NEIGHBORHOOD_  \n",
       "0  BATH BEACH                 \n",
       "1  BATH BEACH                 \n",
       "2  BATH BEACH                 \n",
       "3  BATH BEACH                 \n",
       "4  BAY RIDGE                  "
      ]
     },
     "execution_count": 173,
     "metadata": {},
     "output_type": "execute_result"
    }
   ],
   "source": [
    "df1.head()"
   ]
  },
  {
   "cell_type": "code",
   "execution_count": 174,
   "metadata": {},
   "outputs": [
    {
     "data": {
      "text/html": [
       "<div>\n",
       "<style scoped>\n",
       "    .dataframe tbody tr th:only-of-type {\n",
       "        vertical-align: middle;\n",
       "    }\n",
       "\n",
       "    .dataframe tbody tr th {\n",
       "        vertical-align: top;\n",
       "    }\n",
       "\n",
       "    .dataframe thead th {\n",
       "        text-align: right;\n",
       "    }\n",
       "</style>\n",
       "<table border=\"1\" class=\"dataframe\">\n",
       "  <thead>\n",
       "    <tr style=\"text-align: right;\">\n",
       "      <th></th>\n",
       "      <th>SALE_PRICE_</th>\n",
       "      <th>GROSS_SQUARE_FEET_</th>\n",
       "      <th>TAX_CLASS_AT_TIME_OF_SALE_</th>\n",
       "      <th>NEIGHBORHOOD_</th>\n",
       "    </tr>\n",
       "  </thead>\n",
       "  <tbody>\n",
       "    <tr>\n",
       "      <th>0</th>\n",
       "      <td>-</td>\n",
       "      <td>24,880</td>\n",
       "      <td>2</td>\n",
       "      <td>BAY RIDGE</td>\n",
       "    </tr>\n",
       "    <tr>\n",
       "      <th>1</th>\n",
       "      <td>-</td>\n",
       "      <td>24,880</td>\n",
       "      <td>2</td>\n",
       "      <td>BAY RIDGE</td>\n",
       "    </tr>\n",
       "    <tr>\n",
       "      <th>2</th>\n",
       "      <td>4,600,000</td>\n",
       "      <td>17,280</td>\n",
       "      <td>2</td>\n",
       "      <td>BAY RIDGE</td>\n",
       "    </tr>\n",
       "    <tr>\n",
       "      <th>3</th>\n",
       "      <td>1,845,000</td>\n",
       "      <td>7,740</td>\n",
       "      <td>2</td>\n",
       "      <td>BAY RIDGE</td>\n",
       "    </tr>\n",
       "    <tr>\n",
       "      <th>4</th>\n",
       "      <td>6,400,000</td>\n",
       "      <td>12,609</td>\n",
       "      <td>2</td>\n",
       "      <td>BAY RIDGE</td>\n",
       "    </tr>\n",
       "  </tbody>\n",
       "</table>\n",
       "</div>"
      ],
      "text/plain": [
       "   SALE_PRICE_ GROSS_SQUARE_FEET_  TAX_CLASS_AT_TIME_OF_SALE_  \\\n",
       "0         -               24,880                            2   \n",
       "1         -               24,880                            2   \n",
       "2   4,600,000             17,280                            2   \n",
       "3   1,845,000              7,740                            2   \n",
       "4   6,400,000             12,609                            2   \n",
       "\n",
       "               NEIGHBORHOOD_  \n",
       "0  BAY RIDGE                  \n",
       "1  BAY RIDGE                  \n",
       "2  BAY RIDGE                  \n",
       "3  BAY RIDGE                  \n",
       "4  BAY RIDGE                  "
      ]
     },
     "execution_count": 174,
     "metadata": {},
     "output_type": "execute_result"
    }
   ],
   "source": [
    "sql = '''SELECT SALE_PRICE_ ,GROSS_SQUARE_FEET_ ,TAX_CLASS_AT_TIME_OF_SALE_ ,\n",
    "NEIGHBORHOOD_  FROM `brooklyn_homes.2016_housing_sales` '''\n",
    "df2 = bq.Query(sql).execute().result().to_dataframe()\n",
    "df2.head()"
   ]
  },
  {
   "cell_type": "code",
   "execution_count": 175,
   "metadata": {},
   "outputs": [
    {
     "data": {
      "text/html": [
       "<div>\n",
       "<style scoped>\n",
       "    .dataframe tbody tr th:only-of-type {\n",
       "        vertical-align: middle;\n",
       "    }\n",
       "\n",
       "    .dataframe tbody tr th {\n",
       "        vertical-align: top;\n",
       "    }\n",
       "\n",
       "    .dataframe thead th {\n",
       "        text-align: right;\n",
       "    }\n",
       "</style>\n",
       "<table border=\"1\" class=\"dataframe\">\n",
       "  <thead>\n",
       "    <tr style=\"text-align: right;\">\n",
       "      <th></th>\n",
       "      <th>SALE_PRICE_</th>\n",
       "      <th>GROSS_SQUARE_FEET_</th>\n",
       "      <th>TAX_CLASS_AT_TIME_OF_SALE_</th>\n",
       "      <th>NEIGHBORHOOD_</th>\n",
       "    </tr>\n",
       "  </thead>\n",
       "  <tbody>\n",
       "    <tr>\n",
       "      <th>0</th>\n",
       "      <td>0</td>\n",
       "      <td>43,600</td>\n",
       "      <td>2</td>\n",
       "      <td>BATH BEACH</td>\n",
       "    </tr>\n",
       "    <tr>\n",
       "      <th>1</th>\n",
       "      <td>0</td>\n",
       "      <td>12,160</td>\n",
       "      <td>2</td>\n",
       "      <td>BAY RIDGE</td>\n",
       "    </tr>\n",
       "    <tr>\n",
       "      <th>2</th>\n",
       "      <td>3410000</td>\n",
       "      <td>12,160</td>\n",
       "      <td>2</td>\n",
       "      <td>BAY RIDGE</td>\n",
       "    </tr>\n",
       "    <tr>\n",
       "      <th>3</th>\n",
       "      <td>4850000</td>\n",
       "      <td>12,000</td>\n",
       "      <td>2</td>\n",
       "      <td>BAY RIDGE</td>\n",
       "    </tr>\n",
       "    <tr>\n",
       "      <th>4</th>\n",
       "      <td>5300000</td>\n",
       "      <td>12,001</td>\n",
       "      <td>2</td>\n",
       "      <td>BAY RIDGE</td>\n",
       "    </tr>\n",
       "  </tbody>\n",
       "</table>\n",
       "</div>"
      ],
      "text/plain": [
       "   SALE_PRICE_ GROSS_SQUARE_FEET_  TAX_CLASS_AT_TIME_OF_SALE_ NEIGHBORHOOD_\n",
       "0            0            43,600                            2    BATH BEACH\n",
       "1            0            12,160                            2     BAY RIDGE\n",
       "2      3410000            12,160                            2     BAY RIDGE\n",
       "3      4850000            12,000                            2     BAY RIDGE\n",
       "4      5300000            12,001                            2     BAY RIDGE"
      ]
     },
     "execution_count": 175,
     "metadata": {},
     "output_type": "execute_result"
    }
   ],
   "source": [
    "sql = '''SELECT SALE_PRICE_ ,GROSS_SQUARE_FEET_ ,\n",
    "TAX_CLASS_AT_TIME_OF_SALE_ , NEIGHBORHOOD_  FROM `brooklyn_homes.2017_housing_sales` '''\n",
    "df3 = bq.Query(sql).execute().result().to_dataframe()\n",
    "df3.head()"
   ]
  },
  {
   "cell_type": "code",
   "execution_count": 176,
   "metadata": {},
   "outputs": [
    {
     "data": {
      "text/plain": [
       "SALE_PRICE                   float64\n",
       "GROSS_SQUARE_FEET            float64\n",
       "TAX_CLASS_AT_TIME_OF_SALE    float64\n",
       "NEIGHBORHOOD                  object\n",
       "dtype: object"
      ]
     },
     "execution_count": 176,
     "metadata": {},
     "output_type": "execute_result"
    }
   ],
   "source": [
    "df.dtypes"
   ]
  },
  {
   "cell_type": "code",
   "execution_count": 177,
   "metadata": {},
   "outputs": [
    {
     "data": {
      "text/plain": [
       "_SALE_PRICE__                  object\n",
       "GROSS_SQUARE_FEET_            float64\n",
       "TAX_CLASS_AT_TIME_OF_SALE_    float64\n",
       "NEIGHBORHOOD_                  object\n",
       "dtype: object"
      ]
     },
     "execution_count": 177,
     "metadata": {},
     "output_type": "execute_result"
    }
   ],
   "source": [
    "df1.dtypes"
   ]
  },
  {
   "cell_type": "code",
   "execution_count": 178,
   "metadata": {},
   "outputs": [
    {
     "data": {
      "text/plain": [
       "SALE_PRICE_                   object\n",
       "GROSS_SQUARE_FEET_            object\n",
       "TAX_CLASS_AT_TIME_OF_SALE_     int64\n",
       "NEIGHBORHOOD_                 object\n",
       "dtype: object"
      ]
     },
     "execution_count": 178,
     "metadata": {},
     "output_type": "execute_result"
    }
   ],
   "source": [
    "df2.dtypes"
   ]
  },
  {
   "cell_type": "code",
   "execution_count": 179,
   "metadata": {},
   "outputs": [
    {
     "data": {
      "text/plain": [
       "SALE_PRICE_                    int64\n",
       "GROSS_SQUARE_FEET_            object\n",
       "TAX_CLASS_AT_TIME_OF_SALE_     int64\n",
       "NEIGHBORHOOD_                 object\n",
       "dtype: object"
      ]
     },
     "execution_count": 179,
     "metadata": {},
     "output_type": "execute_result"
    }
   ],
   "source": [
    "df3.dtypes"
   ]
  },
  {
   "cell_type": "code",
   "execution_count": 180,
   "metadata": {
    "collapsed": true
   },
   "outputs": [],
   "source": [
    "df1=df1.rename(index=str,columns ={\"_SALE_PRICE__\":\"SALE_PRICE\",\"TAX_CLASS_AT_TIME_OF_SALE_\":\"TAX_CLASS_AT_TIME_OF_SALE\",\n",
    "                               \"GROSS_SQUARE_FEET_\":\"GROSS_SQUARE_FEET\",\"NEIGHBORHOOD_\":\"NEIGHBORHOOD\"})\n",
    "df2=df2.rename(index=str,columns ={\"SALE_PRICE_\":\"SALE_PRICE\",\"TAX_CLASS_AT_TIME_OF_SALE_\":\"TAX_CLASS_AT_TIME_OF_SALE\",\n",
    "                              \"GROSS_SQUARE_FEET_\":\"GROSS_SQUARE_FEET\",\"NEIGHBORHOOD_\":\"NEIGHBORHOOD\"})\n",
    "df3=df3.rename(index=str,columns ={\"SALE_PRICE_\":\"SALE_PRICE\",\"TAX_CLASS_AT_TIME_OF_SALE_\":\"TAX_CLASS_AT_TIME_OF_SALE\",\n",
    "                              \"GROSS_SQUARE_FEET_\":\"GROSS_SQUARE_FEET\",\"NEIGHBORHOOD_\":\"NEIGHBORHOOD\"})"
   ]
  },
  {
   "cell_type": "code",
   "execution_count": 181,
   "metadata": {
    "collapsed": true
   },
   "outputs": [],
   "source": [
    "sql = '''select round(avg(SALE_PRICE),3) as AVG_SALE_PRICE,2019-YEAR_BUILT as age from `brooklyn_homes.brooklyna` where YEAR_BUILT > 2002 \n",
    "group by age having AVG_SALE_PRICE<>0 order by AVG_SALE_PRICE desc\n",
    "'''\n",
    "df4 =  bq.Query(sql).execute().result().to_dataframe()"
   ]
  },
  {
   "cell_type": "code",
   "execution_count": 182,
   "metadata": {},
   "outputs": [
    {
     "data": {
      "text/html": [
       "<div>\n",
       "<style scoped>\n",
       "    .dataframe tbody tr th:only-of-type {\n",
       "        vertical-align: middle;\n",
       "    }\n",
       "\n",
       "    .dataframe tbody tr th {\n",
       "        vertical-align: top;\n",
       "    }\n",
       "\n",
       "    .dataframe thead th {\n",
       "        text-align: right;\n",
       "    }\n",
       "</style>\n",
       "<table border=\"1\" class=\"dataframe\">\n",
       "  <thead>\n",
       "    <tr style=\"text-align: right;\">\n",
       "      <th></th>\n",
       "      <th>AVG_SALE_PRICE</th>\n",
       "      <th>age</th>\n",
       "    </tr>\n",
       "  </thead>\n",
       "  <tbody>\n",
       "    <tr>\n",
       "      <th>0</th>\n",
       "      <td>1185601.823</td>\n",
       "      <td>5</td>\n",
       "    </tr>\n",
       "    <tr>\n",
       "      <th>1</th>\n",
       "      <td>1157770.066</td>\n",
       "      <td>4</td>\n",
       "    </tr>\n",
       "    <tr>\n",
       "      <th>2</th>\n",
       "      <td>1080826.595</td>\n",
       "      <td>6</td>\n",
       "    </tr>\n",
       "    <tr>\n",
       "      <th>3</th>\n",
       "      <td>829094.213</td>\n",
       "      <td>3</td>\n",
       "    </tr>\n",
       "    <tr>\n",
       "      <th>4</th>\n",
       "      <td>792131.270</td>\n",
       "      <td>2</td>\n",
       "    </tr>\n",
       "    <tr>\n",
       "      <th>5</th>\n",
       "      <td>711269.461</td>\n",
       "      <td>7</td>\n",
       "    </tr>\n",
       "    <tr>\n",
       "      <th>6</th>\n",
       "      <td>651446.280</td>\n",
       "      <td>10</td>\n",
       "    </tr>\n",
       "    <tr>\n",
       "      <th>7</th>\n",
       "      <td>594361.955</td>\n",
       "      <td>11</td>\n",
       "    </tr>\n",
       "    <tr>\n",
       "      <th>8</th>\n",
       "      <td>590764.660</td>\n",
       "      <td>1</td>\n",
       "    </tr>\n",
       "    <tr>\n",
       "      <th>9</th>\n",
       "      <td>588616.028</td>\n",
       "      <td>8</td>\n",
       "    </tr>\n",
       "    <tr>\n",
       "      <th>10</th>\n",
       "      <td>499333.168</td>\n",
       "      <td>12</td>\n",
       "    </tr>\n",
       "    <tr>\n",
       "      <th>11</th>\n",
       "      <td>495880.549</td>\n",
       "      <td>9</td>\n",
       "    </tr>\n",
       "    <tr>\n",
       "      <th>12</th>\n",
       "      <td>479834.521</td>\n",
       "      <td>13</td>\n",
       "    </tr>\n",
       "    <tr>\n",
       "      <th>13</th>\n",
       "      <td>466577.520</td>\n",
       "      <td>14</td>\n",
       "    </tr>\n",
       "    <tr>\n",
       "      <th>14</th>\n",
       "      <td>378908.815</td>\n",
       "      <td>16</td>\n",
       "    </tr>\n",
       "    <tr>\n",
       "      <th>15</th>\n",
       "      <td>367082.592</td>\n",
       "      <td>15</td>\n",
       "    </tr>\n",
       "  </tbody>\n",
       "</table>\n",
       "</div>"
      ],
      "text/plain": [
       "    AVG_SALE_PRICE  age\n",
       "0      1185601.823    5\n",
       "1      1157770.066    4\n",
       "2      1080826.595    6\n",
       "3       829094.213    3\n",
       "4       792131.270    2\n",
       "5       711269.461    7\n",
       "6       651446.280   10\n",
       "7       594361.955   11\n",
       "8       590764.660    1\n",
       "9       588616.028    8\n",
       "10      499333.168   12\n",
       "11      495880.549    9\n",
       "12      479834.521   13\n",
       "13      466577.520   14\n",
       "14      378908.815   16\n",
       "15      367082.592   15"
      ]
     },
     "execution_count": 182,
     "metadata": {},
     "output_type": "execute_result"
    }
   ],
   "source": [
    "df4"
   ]
  },
  {
   "cell_type": "markdown",
   "metadata": {},
   "source": [
    "Visual #1. Graphing Average Sale Price as a function of Property Age"
   ]
  },
  {
   "cell_type": "code",
   "execution_count": 184,
   "metadata": {},
   "outputs": [
    {
     "data": {
      "image/png": "[encoded data removed]",
      "text/plain": [
       "<matplotlib.figure.Figure at 0x7fef32add650>"
      ]
     },
     "metadata": {},
     "output_type": "display_data"
    }
   ],
   "source": [
    "#y_pos = np.arange(len(objects))\n",
    "ax = sns.lmplot(x=\"age\", y=\"AVG_SALE_PRICE\", data=df4)\n"
   ]
  },
  {
   "cell_type": "code",
   "execution_count": 189,
   "metadata": {
    "collapsed": true
   },
   "outputs": [],
   "source": [
    "# sql =\"\"\"select TOTAL_UNITS ,2019-YEAR_BUILT as age\n",
    "# from `brooklyn_homes.brooklyna`  where YEAR_BUILT > 2002 and TOTAL_UNITS is not NULL order by age desc\"\"\""
   ]
  },
  {
   "cell_type": "code",
   "execution_count": 209,
   "metadata": {
    "collapsed": true
   },
   "outputs": [],
   "source": [
    "sql = '''select SALE_PRICE,GROSS_SQUARE_FEET \n",
    " from `brooklyn_homes.brooklyna` where LAND_SQUARE_FEET is not null and GROSS_SQUARE_FEET is not null \n",
    "and GROSS_SQUARE_FEET <> 0 and GROSS_SQUARE_FEET< 500000 and SALE_PRICE>50000 order by SALE_PRICE desc \n",
    "'''\n",
    "df5 = bq.Query(sql).execute().result().to_dataframe()"
   ]
  },
  {
   "cell_type": "markdown",
   "metadata": {},
   "source": [
    "Visual #2. Scatterplot of Sale Price as a function of property Gross Square Feet. Confirms our intuition of a generally linear relationshiop. Shows that most observations are clustered around the smaller square footage range. "
   ]
  },
  {
   "cell_type": "code",
   "execution_count": 210,
   "metadata": {},
   "outputs": [
    {
     "data": {
      "image/png": "[encoded data removed]",
      "text/plain": [
       "<matplotlib.figure.Figure at 0x7fef4f5544d0>"
      ]
     },
     "metadata": {},
     "output_type": "display_data"
    }
   ],
   "source": [
    "#ax = sns.lmplot(x=\"SALE_PRICE\", y=\"divo\", data=df4)\n",
    "ax = sns.lmplot(x='GROSS_SQUARE_FEET',y='SALE_PRICE',data=df5)"
   ]
  },
  {
   "cell_type": "code",
   "execution_count": 211,
   "metadata": {
    "collapsed": true
   },
   "outputs": [],
   "source": [
    "sql = \"\"\"\n",
    "select SALE_PRICE , GROSS_SQUARE_FEET ,LAND_SQUARE_FEET  from `brooklyn_homes.brooklyna` \n",
    "\"\"\"\n",
    "df6 = bq.Query(sql).execute().result().to_dataframe()"
   ]
  },
  {
   "cell_type": "markdown",
   "metadata": {},
   "source": [
    "Visual #3. Heatmap of correlations among explanatory variables. We use this to identify interactions among the explanatory variables in our model, to avoid collinearity problems. "
   ]
  },
  {
   "cell_type": "code",
   "execution_count": 215,
   "metadata": {},
   "outputs": [
    {
     "data": {
      "text/plain": [
       "<matplotlib.axes._subplots.AxesSubplot at 0x7fef48336e90>"
      ]
     },
     "execution_count": 215,
     "metadata": {},
     "output_type": "execute_result"
    },
    {
     "data": {
      "image/png": "[encoded data removed]",
      "text/plain": [
       "<matplotlib.figure.Figure at 0x7fef47bc6e10>"
      ]
     },
     "metadata": {},
     "output_type": "display_data"
    }
   ],
   "source": [
    "corr = df6.corr()\n",
    "# Generate a mask for the upper triangle\n",
    "mask = np.zeros_like(corr, dtype=np.bool)\n",
    "mask[np.triu_indices_from(mask)] = True\n",
    "\n",
    "# Set up the matplotlib figure\n",
    "f, ax = plt.subplots(figsize=(11, 9))\n",
    "\n",
    "# Generate a custom diverging colormap\n",
    "cmap = sns.diverging_palette(220, 10, as_cmap=True)\n",
    "\n",
    "# Draw the heatmap with the mask and correct aspect ratio\n",
    "sns.heatmap(corr, mask=mask, cmap=cmap, vmax=.3, center=0,annot=True,\n",
    "            square=True, linewidths=.5, cbar_kws={\"shrink\": .5})"
   ]
  },
  {
   "cell_type": "code",
   "execution_count": 226,
   "metadata": {
    "collapsed": true
   },
   "outputs": [],
   "source": [
    "sql = \"\"\"\n",
    "select round(avg(SALE_PRICE),2) AVG_SALE_PRICE ,NEIGHBORHOOD from `brooklyn_homes.brooklyna`\n",
    "group by NEIGHBORHOOD order by AVG_SALE_PRICE desc   LIMIT 20\n",
    "\"\"\"\n",
    "df7 = bq.Query(sql).execute().result().to_dataframe()"
   ]
  },
  {
   "cell_type": "code",
   "execution_count": 232,
   "metadata": {},
   "outputs": [
    {
     "name": "stdout",
     "output_type": "stream",
     "text": [
      "Collecting WordCloud\n",
      "\u001b[?25l  Downloading https://files.pythonhosted.org/packages/8e/4e/9e01986bb40886bb71b572115cead5f445f7221a285a407d2274be21fc27/wordcloud-1.5.0-cp27-cp27mu-manylinux1_x86_64.whl (345kB)\n",
      "\u001b[K    100% |████████████████████████████████| 348kB 8.0MB/s eta 0:00:01\n",
      "\u001b[?25hRequirement already satisfied: numpy>=1.6.1 in /usr/local/envs/py2env/lib/python2.7/site-packages (from WordCloud) (1.14.0)\n",
      "Requirement already satisfied: pillow in /usr/local/envs/py2env/lib/python2.7/site-packages (from WordCloud) (3.4.1)\n",
      "Installing collected packages: WordCloud\n",
      "Successfully installed WordCloud-1.5.0\n"
     ]
    }
   ],
   "source": [
    "!pip install WordCloud"
   ]
  },
  {
   "cell_type": "code",
   "execution_count": 233,
   "metadata": {},
   "outputs": [
    {
     "name": "stdout",
     "output_type": "stream",
     "text": [
      "Collecting STOPWORDS\n",
      "\u001b[?25l  Downloading https://files.pythonhosted.org/packages/14/a2/d4eb1d5e609fa0b1d59e929db8eb9ae540f8b2d6db3a4ba26f713e81af15/stopwords-0.1.3.tar.gz (41kB)\n",
      "\u001b[K    100% |████████████████████████████████| 51kB 2.4MB/s ta 0:00:011\n",
      "\u001b[?25hBuilding wheels for collected packages: STOPWORDS\n",
      "  Running setup.py bdist_wheel for STOPWORDS ... \u001b[?25ldone\n",
      "\u001b[?25h  Stored in directory: /root/.cache/pip/wheels/39/fa/c7/c4c5111e658f5c58465d948165dc3395a3c10ff57f4cd20356\n",
      "Successfully built STOPWORDS\n",
      "Installing collected packages: STOPWORDS\n",
      "Successfully installed STOPWORDS-0.1.3\n"
     ]
    }
   ],
   "source": [
    "!pip install STOPWORDS"
   ]
  },
  {
   "cell_type": "code",
   "execution_count": 251,
   "metadata": {},
   "outputs": [
    {
     "data": {
      "text/plain": [
       "{u'BOERUM HILL': 1850729.51,\n",
       " u'BROOKLYN HEIGHTS': 1661176.09,\n",
       " u'BROOKLYN-UNKNOWN': 1291707.98,\n",
       " u'BUSH TERMINAL': 7760088.23,\n",
       " u'COBBLE HILL': 1775665.17,\n",
       " u'DOWNTOWN-FULTON FERRY': 2202786.25,\n",
       " u'DOWNTOWN-FULTON MALL': 1251379.75,\n",
       " u'DOWNTOWN-METROTECH': 3158885.81,\n",
       " u'GOWANUS': 3451808.57,\n",
       " u'GREENPOINT': 1430584.81,\n",
       " u'JAMAICA BAY': 14150000.0,\n",
       " u'KENSINGTON': 1834431.25,\n",
       " u'NAVY YARD': 2150119.71,\n",
       " u'PARK SLOPE': 1300743.61,\n",
       " u'PROSPECT HEIGHTS': 1931948.17,\n",
       " u'RED HOOK': 7117272.0,\n",
       " u'SPRING CREEK': 45284718.6,\n",
       " u'WILLIAMSBURG-EAST': 1274423.18,\n",
       " u'WILLIAMSBURG-NORTH': 1387250.46,\n",
       " u'WILLIAMSBURG-SOUTH': 1302580.43}"
      ]
     },
     "execution_count": 251,
     "metadata": {},
     "output_type": "execute_result"
    }
   ],
   "source": [
    "from wordcloud import WordCloud, STOPWORDS\n",
    "df7['NEIGHBORHOOD'] = df7['NEIGHBORHOOD'].map(lambda x:x.strip())\n",
    "df8 = df7.set_index('NEIGHBORHOOD').to_dict()\n",
    "df8['AVG_SALE_PRICE']\n"
   ]
  },
  {
   "cell_type": "code",
   "execution_count": 243,
   "metadata": {
    "collapsed": true
   },
   "outputs": [],
   "source": [
    "def random_color_func(word = None,font_size= None,position= None,orientation=None,font_path = None,random_state = None):\n",
    "    h = int(360.0*tone/255.0);\n",
    "    s = int(100.0*255.0/255.0);\n",
    "    l = int(100.0*float(random_state.randint(70,120))/255.0)\n",
    "    return \"hsl({},{}%,{}%)\".format(h,s,l)"
   ]
  },
  {
   "cell_type": "markdown",
   "metadata": {},
   "source": [
    "Visual #4. Wordcloud of of Brooklyn Neighborhoods by average Sale Price. Reveals what neighborhoods would typically have the most expensive properties."
   ]
  },
  {
   "cell_type": "code",
   "execution_count": 264,
   "metadata": {},
   "outputs": [
    {
     "data": {
      "text/plain": [
       "(-0.5, 399.5, 199.5, -0.5)"
      ]
     },
     "execution_count": 264,
     "metadata": {},
     "output_type": "execute_result"
    },
    {
     "data": {
      "image/png": "[encoded data removed]",
      "text/plain": [
       "<matplotlib.figure.Figure at 0x7fef3245c850>"
      ]
     },
     "metadata": {},
     "output_type": "display_data"
    }
   ],
   "source": [
    "wordcloud = WordCloud(background_color = 'Black',\n",
    "                      relative_scaling =0)\n",
    "fig = plt.figure(1,figsize=(18,13))\n",
    "ax1 = fig.add_subplot(2,1,1)\n",
    "wordcloud.generate_from_frequencies(df8['AVG_SALE_PRICE']);\n",
    "ax1.imshow(wordcloud,interpolation='bilinear')\n",
    "ax1.axis('off')"
   ]
  }
 ],
 "metadata": {
  "kernelspec": {
   "display_name": "Python 3",
   "language": "python",
   "name": "python3"
  },
  "language_info": {
   "codemirror_mode": {
    "name": "ipython",
    "version": 3
   },
   "file_extension": ".py",
   "mimetype": "text/x-python",
   "name": "python",
   "nbconvert_exporter": "python",
   "pygments_lexer": "ipython3",
   "version": "3.6.3"
  }
 },
 "nbformat": 4,
 "nbformat_minor": 2
}
